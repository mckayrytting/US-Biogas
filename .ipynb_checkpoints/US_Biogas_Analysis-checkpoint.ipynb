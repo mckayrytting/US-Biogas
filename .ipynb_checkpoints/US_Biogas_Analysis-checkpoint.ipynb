{
 "cells": [
  {
   "cell_type": "code",
   "execution_count": 1,
   "metadata": {},
   "outputs": [],
   "source": [
    "#     US_Biogas_Analysis.ipynb\n",
    "#     McKay Rytting\n",
    "#     This notebook is an initial exploration of US Biogas data compiled by USDA"
   ]
  },
  {
   "cell_type": "code",
   "execution_count": 3,
   "metadata": {},
   "outputs": [],
   "source": [
    "import pandas as pd"
   ]
  },
  {
   "cell_type": "code",
   "execution_count": 8,
   "metadata": {},
   "outputs": [],
   "source": [
    "# Read the data file in. It has the following tabs:\n",
    "allBiogasData = pd.read_excel('BioGas_Download.xlsx', sheet_name=None)"
   ]
  },
  {
   "cell_type": "code",
   "execution_count": 9,
   "metadata": {},
   "outputs": [
    {
     "data": {
      "text/plain": [
       "dict_keys(['Readme', 'Agriculture BioGas System', 'Landfill BioGas System', 'Wastewater BioGas System', 'Food Scrap BioGas System', 'Compressed NG Fueling Stations', 'Electric Fueling Stations', 'NG Pipelines Gathering', 'NG Pipelines Interstate', 'NG Pipelines Intrastate', '2013 Electricity Prices', '2014 Gas Prices', 'State Incentives Total Count', 'Net Metering Rules', 'Net Metering Caps', 'Livestock Dairy Inventory', 'Livestock Poultry Inventory', 'Livestock Swine Inventory', 'Crop Residue Bagasse ', 'Crop Residue Barley Straw', 'Crop Residue Cornstover', 'Crop Residue Sorghum', 'Crop Residue Rice', 'Crop Residue Wheatstraw', 'Energy Crops Cane', 'Energy Crops Miscanthus', 'Energy Crops Switchgrass', 'NRCS EQIP Practice Standards'])"
      ]
     },
     "execution_count": 9,
     "metadata": {},
     "output_type": "execute_result"
    }
   ],
   "source": [
    "allBiogasData.keys()"
   ]
  },
  {
   "cell_type": "code",
   "execution_count": 10,
   "metadata": {},
   "outputs": [],
   "source": [
    "dfAgriculture=allBiogasData['Agriculture BioGas System']\n",
    "dfLandfill=allBiogasData['Landfill BioGas System']\n",
    "dfIncentives=allBiogasData['State Incentives Total Count']\n",
    "dfDairyInventory=allBiogasData['Livestock Dairy Inventory']\n",
    "dfSwineInventory=allBiogasData['Livestock Swine Inventory']\n",
    "dfPoultryInventory=allBiogasData['Livestock Poultry Inventory']"
   ]
  },
  {
   "cell_type": "code",
   "execution_count": null,
   "metadata": {},
   "outputs": [],
   "source": []
  },
  {
   "cell_type": "code",
   "execution_count": null,
   "metadata": {},
   "outputs": [],
   "source": []
  },
  {
   "cell_type": "code",
   "execution_count": null,
   "metadata": {},
   "outputs": [],
   "source": []
  },
  {
   "cell_type": "code",
   "execution_count": null,
   "metadata": {},
   "outputs": [],
   "source": []
  }
 ],
 "metadata": {
  "kernelspec": {
   "display_name": "Python 3",
   "language": "python",
   "name": "python3"
  },
  "language_info": {
   "codemirror_mode": {
    "name": "ipython",
    "version": 3
   },
   "file_extension": ".py",
   "mimetype": "text/x-python",
   "name": "python",
   "nbconvert_exporter": "python",
   "pygments_lexer": "ipython3",
   "version": "3.8.3"
  }
 },
 "nbformat": 4,
 "nbformat_minor": 4
}
