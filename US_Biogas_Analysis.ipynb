{
 "cells": [
  {
   "cell_type": "code",
   "execution_count": 1,
   "metadata": {},
   "outputs": [],
   "source": [
    "#     US_Biogas_Analysis.ipynb\n",
    "#     McKay Rytting\n",
    "#     This notebook is an initial exploration of US Biogas data compiled by USDA"
   ]
  },
  {
   "cell_type": "code",
   "execution_count": 2,
   "metadata": {},
   "outputs": [
    {
     "output_type": "stream",
     "name": "stdout",
     "text": [
      "Collecting Nominatim\n",
      "  Downloading nominatim-0.1.tar.gz (1.7 kB)\n",
      "Building wheels for collected packages: Nominatim\n",
      "  Building wheel for Nominatim (setup.py) ... \u001b[?25ldone\n",
      "\u001b[?25h  Created wheel for Nominatim: filename=nominatim-0.1-py3-none-any.whl size=2363 sha256=001a1f10cd79b3bfdfbbf54daa0f19dd5c4ad913bd488574fef3288fe942a3ee\n",
      "  Stored in directory: /Users/mckayrytting/Library/Caches/pip/wheels/61/a8/8d/06a142598c8ff2d5ac76ee5c2935f22dcf67d05e208722c4c0\n",
      "Successfully built Nominatim\n",
      "Installing collected packages: Nominatim\n",
      "Successfully installed Nominatim-0.1\n",
      "Note: you may need to restart the kernel to use updated packages.\n"
     ]
    }
   ],
   "source": [
    "#   Using geopy and Nominatim for geolocating\n",
    "#   pip install geopy\n",
    "#   pip install Nominatim"
   ]
  },
  {
   "cell_type": "code",
   "execution_count": 1,
   "metadata": {},
   "outputs": [],
   "source": [
    "import pandas as pd\n",
    "import numpy as np\n",
    "from geopy.geocoders import Nominatim\n",
    "from geopy.extra.rate_limiter import RateLimiter"
   ]
  },
  {
   "cell_type": "code",
   "execution_count": 2,
   "metadata": {},
   "outputs": [],
   "source": [
    "# Read the data files in:\n",
    "allBiogasData = pd.read_excel('BioGas_Download.xlsx', sheet_name=None)\n",
    "newFarmData=pd.read_excel('agstar-livestock-ad-database.xlsx', sheet_name=None)"
   ]
  },
  {
   "cell_type": "code",
   "execution_count": 3,
   "metadata": {},
   "outputs": [
    {
     "output_type": "execute_result",
     "data": {
      "text/plain": [
       "dict_keys(['Readme', 'Agriculture BioGas System', 'Landfill BioGas System', 'Wastewater BioGas System', 'Food Scrap BioGas System', 'Compressed NG Fueling Stations', 'Electric Fueling Stations', 'NG Pipelines Gathering', 'NG Pipelines Interstate', 'NG Pipelines Intrastate', '2013 Electricity Prices', '2014 Gas Prices', 'State Incentives Total Count', 'Net Metering Rules', 'Net Metering Caps', 'Livestock Dairy Inventory', 'Livestock Poultry Inventory', 'Livestock Swine Inventory', 'Crop Residue Bagasse ', 'Crop Residue Barley Straw', 'Crop Residue Cornstover', 'Crop Residue Sorghum', 'Crop Residue Rice', 'Crop Residue Wheatstraw', 'Energy Crops Cane', 'Energy Crops Miscanthus', 'Energy Crops Switchgrass', 'NRCS EQIP Practice Standards'])"
      ]
     },
     "metadata": {},
     "execution_count": 3
    }
   ],
   "source": [
    "# First data file keys\n",
    "allBiogasData.keys()"
   ]
  },
  {
   "cell_type": "code",
   "execution_count": 4,
   "metadata": {},
   "outputs": [
    {
     "output_type": "execute_result",
     "data": {
      "text/plain": [
       "dict_keys(['Operational and Construction', 'Shutdown'])"
      ]
     },
     "metadata": {},
     "execution_count": 4
    }
   ],
   "source": [
    "newFarmData.keys()"
   ]
  },
  {
   "cell_type": "code",
   "execution_count": 5,
   "metadata": {},
   "outputs": [],
   "source": [
    "# Create individual dataframes for tabs of interest\n",
    "dfAgriculture=newFarmData['Operational and Construction']\n",
    "dfLandfill=allBiogasData['Landfill BioGas System']\n",
    "dfIncentives=allBiogasData['State Incentives Total Count']\n",
    "dfDairyInventory=allBiogasData['Livestock Dairy Inventory']\n",
    "dfSwineInventory=allBiogasData['Livestock Swine Inventory']\n",
    "dfPoultryInventory=allBiogasData['Livestock Poultry Inventory']"
   ]
  },
  {
   "cell_type": "code",
   "execution_count": 6,
   "metadata": {},
   "outputs": [],
   "source": [
    "# Clean up livestock inventory dataframes, combine into single dataframe of livestock counts in US counties\n",
    "dfLivestockInventory=pd.merge(dfDairyInventory,dfSwineInventory, how='outer',\n",
    "                              left_on=['County','State'], right_on=['NAME','STATE NAME'])\n",
    "dfLivestockInventory=pd.merge(dfLivestockInventory,dfPoultryInventory, how='outer',\n",
    "                              left_on=['NAME','STATE NAME'], right_on=['NAME','STATE NAME'])\n",
    "dfLivestockInventory.drop(columns=['NAME','STATE NAME'],inplace=True)\n",
    "dfLivestockInventory.rename(columns={'Milk Cow Inventory':'Cow Inventory',\n",
    "                                     'Inventory Total Higs and Pigs':'Swine Inventory'},\n",
    "                           inplace=True)\n",
    "dfLivestockInventory=dfLivestockInventory.fillna(0)"
   ]
  },
  {
   "cell_type": "code",
   "execution_count": 7,
   "metadata": {},
   "outputs": [
    {
     "output_type": "execute_result",
     "data": {
      "text/plain": [
       "array(['None', 'Process Water',\n",
       "       'Agricultural Residues; Dairy Processing Wastes',\n",
       "       'Other Feedstocks', 'Dairy Processing Wastes', 'Food Wastes',\n",
       "       'Agricultural Residues; Food Processing Wastes; Slaughterhouses; Other Feedstocks',\n",
       "       'Agricultural Residues', 'Fats, Oils, Greases; Food Wastes',\n",
       "       'Food Processing Wastes', 'Fats, Oils, Greases',\n",
       "       'Agricultural Residues; Fats, Oils, Greases; Food Processing Wastes; Food Wastes',\n",
       "       'Agricultural Residues; Beverage and Distillery Wastes; Dairy Processing Wastes; Fats, Oils, Greases; Food Processing Wastes; Food Wastes; Process Water; Slaughterhouses; Other Feedstocks',\n",
       "       'Dairy Processing Wastes; Fats, Oils, Greases; Food Processing Wastes; Food Wastes; Other Feedstocks',\n",
       "       'Fats, Oils, Greases; Process Water',\n",
       "       'Food Wastes; Slaughterhouses',\n",
       "       'Agricultural Residues; Dairy Processing Wastes; Food Wastes; Process Water',\n",
       "       'Dairy Processing Wastes; Food Wastes',\n",
       "       'Dairy Processing Wastes; Food Processing Wastes',\n",
       "       'Agricultural Residues; Food Wastes',\n",
       "       'Dairy Processing Wastes; Food Wastes; Process Water',\n",
       "       'Food Wastes; Process Water', 'Food Wastes; Other Feedstocks',\n",
       "       'Food Processing Wastes; Process Water',\n",
       "       'Dairy Processing Wastes; Other Feedstocks',\n",
       "       'Agricultural Residues; Food Processing Wastes',\n",
       "       'Fats, Oils, Greases; Process Water; Other Feedstocks',\n",
       "       'Agricultural Residues; Process Water',\n",
       "       'Agricultural Residues; Food Wastes; Other Feedstocks'],\n",
       "      dtype=object)"
      ]
     },
     "metadata": {},
     "execution_count": 7
    }
   ],
   "source": [
    "# Want to clean up the CoDigestion column in the agriculture dataframe. First need a list of unique values to turn into categories.\n",
    "dfAgriculture['Co-Digestion']=dfAgriculture['Co-Digestion'].fillna('None')\n",
    "dfAgriculture['Co-Digestion'].unique()"
   ]
  },
  {
   "cell_type": "code",
   "execution_count": 8,
   "metadata": {},
   "outputs": [],
   "source": [
    "# Make masks for various types of CoDigestion\n",
    "dfAgriculture['Codigestion']=dfAgriculture['Co-Digestion']\n",
    "foodMask=dfAgriculture['Co-Digestion'].str.contains('food|Food')\n",
    "waterMask=dfAgriculture['Co-Digestion'].str.contains('water|Water')\n",
    "agMask=dfAgriculture['Co-Digestion'].str.contains('agri|Agri')\n",
    "mixMask=dfAgriculture['Co-Digestion'].str.contains('mix|Mix')\n",
    "allMask=dfAgriculture['Co-Digestion']=='None'\n",
    "multMask=(foodMask^waterMask==agMask)"
   ]
  },
  {
   "cell_type": "code",
   "execution_count": 9,
   "metadata": {},
   "outputs": [],
   "source": [
    "# Apply masks to dataframe\n",
    "dfAgriculture['Codigestion'][allMask]='None'\n",
    "dfAgriculture['Codigestion'][~allMask]='Other'\n",
    "dfAgriculture['Codigestion'][multMask^~foodMask]='Mult'\n",
    "dfAgriculture['Codigestion'][agMask & ~multMask]='Agricultural Substrates'\n",
    "dfAgriculture['Codigestion'][waterMask & ~multMask]='Wastewater'\n",
    "dfAgriculture['Codigestion'][foodMask & ~multMask]='Food'\n",
    "dfAgriculture['Codigestion'][mixMask]='Mix'"
   ]
  },
  {
   "cell_type": "code",
   "execution_count": 10,
   "metadata": {},
   "outputs": [
    {
     "output_type": "execute_result",
     "data": {
      "text/plain": [
       "                                          Co-Digestion Codigestion\n",
       "51   Agricultural Residues; Food Processing Wastes;...        Mult\n",
       "73   Agricultural Residues; Fats, Oils, Greases; Fo...        Mult\n",
       "150                 Agricultural Residues; Food Wastes        Mult\n",
       "157  Dairy Processing Wastes; Food Wastes; Process ...        Mult\n",
       "160                         Food Wastes; Process Water        Mult\n",
       "173                         Food Wastes; Process Water        Mult\n",
       "175                         Food Wastes; Process Water        Mult\n",
       "177                         Food Wastes; Process Water        Mult\n",
       "179                         Food Wastes; Process Water        Mult\n",
       "194                         Food Wastes; Process Water        Mult\n",
       "199                         Food Wastes; Process Water        Mult\n",
       "202                         Food Wastes; Process Water        Mult\n",
       "215              Food Processing Wastes; Process Water        Mult\n",
       "229      Agricultural Residues; Food Processing Wastes        Mult\n",
       "239                         Food Wastes; Process Water        Mult\n",
       "276  Agricultural Residues; Food Wastes; Other Feed...        Mult\n",
       "280                         Food Wastes; Process Water        Mult"
      ],
      "text/html": "<div>\n<style scoped>\n    .dataframe tbody tr th:only-of-type {\n        vertical-align: middle;\n    }\n\n    .dataframe tbody tr th {\n        vertical-align: top;\n    }\n\n    .dataframe thead th {\n        text-align: right;\n    }\n</style>\n<table border=\"1\" class=\"dataframe\">\n  <thead>\n    <tr style=\"text-align: right;\">\n      <th></th>\n      <th>Co-Digestion</th>\n      <th>Codigestion</th>\n    </tr>\n  </thead>\n  <tbody>\n    <tr>\n      <th>51</th>\n      <td>Agricultural Residues; Food Processing Wastes;...</td>\n      <td>Mult</td>\n    </tr>\n    <tr>\n      <th>73</th>\n      <td>Agricultural Residues; Fats, Oils, Greases; Fo...</td>\n      <td>Mult</td>\n    </tr>\n    <tr>\n      <th>150</th>\n      <td>Agricultural Residues; Food Wastes</td>\n      <td>Mult</td>\n    </tr>\n    <tr>\n      <th>157</th>\n      <td>Dairy Processing Wastes; Food Wastes; Process ...</td>\n      <td>Mult</td>\n    </tr>\n    <tr>\n      <th>160</th>\n      <td>Food Wastes; Process Water</td>\n      <td>Mult</td>\n    </tr>\n    <tr>\n      <th>173</th>\n      <td>Food Wastes; Process Water</td>\n      <td>Mult</td>\n    </tr>\n    <tr>\n      <th>175</th>\n      <td>Food Wastes; Process Water</td>\n      <td>Mult</td>\n    </tr>\n    <tr>\n      <th>177</th>\n      <td>Food Wastes; Process Water</td>\n      <td>Mult</td>\n    </tr>\n    <tr>\n      <th>179</th>\n      <td>Food Wastes; Process Water</td>\n      <td>Mult</td>\n    </tr>\n    <tr>\n      <th>194</th>\n      <td>Food Wastes; Process Water</td>\n      <td>Mult</td>\n    </tr>\n    <tr>\n      <th>199</th>\n      <td>Food Wastes; Process Water</td>\n      <td>Mult</td>\n    </tr>\n    <tr>\n      <th>202</th>\n      <td>Food Wastes; Process Water</td>\n      <td>Mult</td>\n    </tr>\n    <tr>\n      <th>215</th>\n      <td>Food Processing Wastes; Process Water</td>\n      <td>Mult</td>\n    </tr>\n    <tr>\n      <th>229</th>\n      <td>Agricultural Residues; Food Processing Wastes</td>\n      <td>Mult</td>\n    </tr>\n    <tr>\n      <th>239</th>\n      <td>Food Wastes; Process Water</td>\n      <td>Mult</td>\n    </tr>\n    <tr>\n      <th>276</th>\n      <td>Agricultural Residues; Food Wastes; Other Feed...</td>\n      <td>Mult</td>\n    </tr>\n    <tr>\n      <th>280</th>\n      <td>Food Wastes; Process Water</td>\n      <td>Mult</td>\n    </tr>\n  </tbody>\n</table>\n</div>"
     },
     "metadata": {},
     "execution_count": 10
    }
   ],
   "source": [
    "# Check to make sure things look categorized correctly!\n",
    "dfAgriculture[dfAgriculture['Codigestion']=='Mult'][['Co-Digestion','Codigestion']]"
   ]
  },
  {
   "cell_type": "code",
   "execution_count": 11,
   "metadata": {},
   "outputs": [
    {
     "output_type": "execute_result",
     "data": {
      "text/plain": [
       "                          Project Name Project Type       City    County  \\\n",
       "0  Cargill - Sandy River Farm Digester   Farm Scale  Morrilton    Conway   \n",
       "1                Paloma Dairy Digester   Farm Scale  Gila Bend  Maricopa   \n",
       "2        Stotz Southern Dairy Digester   Farm Scale    Buckeye  Maricopa   \n",
       "3              Triple G Dairy Digester   Farm Scale    Buckeye  Maricopa   \n",
       "4                    4K Dairy Digester   Farm Scale     Pixley    Tulare   \n",
       "\n",
       "  State   Digester Type        Status  Year Operational Animal/Farm Type(s)  \\\n",
       "0    AR  Covered Lagoon   Operational            2008.0               Swine   \n",
       "1    AZ  Covered Lagoon  Construction               NaN               Dairy   \n",
       "2    AZ  Covered Lagoon   Operational            2011.0               Dairy   \n",
       "3    AZ  Covered Lagoon   Operational            2011.0               Dairy   \n",
       "4    CA  Covered Lagoon   Operational            2020.0               Dairy   \n",
       "\n",
       "   Cattle  ...   Swine  Co-Digestion  Biogas Generation Estimate (cu_ft/day)  \\\n",
       "0     NaN  ...  8400.0          None                               1814400.0   \n",
       "1     NaN  ...     NaN          None                                     NaN   \n",
       "2     NaN  ...     NaN          None                                     NaN   \n",
       "3     NaN  ...     NaN          None                                     NaN   \n",
       "4     NaN  ...     NaN          None                                     NaN   \n",
       "\n",
       "  Electricity Generated (kWh/yr)  Biogas End Use(s)  \\\n",
       "0                            NaN   Flared Full-time   \n",
       "1                            NaN                CNG   \n",
       "2                      5256000.0        Electricity   \n",
       "3                      4467600.0       Cogeneration   \n",
       "4                            NaN                CNG   \n",
       "\n",
       "      System Designer(s)_Developer(s) and Affiliates  \\\n",
       "0  Martin Construction Resource LLC (formerly RCM...   \n",
       "1  Fortistar, LLC [Project Developer]; Industrial...   \n",
       "2  Chapel Street Environmental [System Design Eng...   \n",
       "3  Chapel Street Environmental [System Design Eng...   \n",
       "4              Maas Energy Works [Project Developer]   \n",
       "\n",
       "            Receiving Utility Total Emission Reductions (MTCO2e/yr)  \\\n",
       "0                         NaN                           4002.460092   \n",
       "1       Southwest Gas Company                          90025.627853   \n",
       "2      Arizona Public Service                         138786.936883   \n",
       "3  Arizona Public Service Co.                          39196.471980   \n",
       "4                    SoCalGas                          39694.379011   \n",
       "\n",
       "  Awarded USDA Funding?  Codigestion  \n",
       "0                   NaN         None  \n",
       "1                   NaN         None  \n",
       "2                   NaN         None  \n",
       "3                   NaN         None  \n",
       "4                   NaN         None  \n",
       "\n",
       "[5 rows x 22 columns]"
      ],
      "text/html": "<div>\n<style scoped>\n    .dataframe tbody tr th:only-of-type {\n        vertical-align: middle;\n    }\n\n    .dataframe tbody tr th {\n        vertical-align: top;\n    }\n\n    .dataframe thead th {\n        text-align: right;\n    }\n</style>\n<table border=\"1\" class=\"dataframe\">\n  <thead>\n    <tr style=\"text-align: right;\">\n      <th></th>\n      <th>Project Name</th>\n      <th>Project Type</th>\n      <th>City</th>\n      <th>County</th>\n      <th>State</th>\n      <th>Digester Type</th>\n      <th>Status</th>\n      <th>Year Operational</th>\n      <th>Animal/Farm Type(s)</th>\n      <th>Cattle</th>\n      <th>...</th>\n      <th>Swine</th>\n      <th>Co-Digestion</th>\n      <th>Biogas Generation Estimate (cu_ft/day)</th>\n      <th>Electricity Generated (kWh/yr)</th>\n      <th>Biogas End Use(s)</th>\n      <th>System Designer(s)_Developer(s) and Affiliates</th>\n      <th>Receiving Utility</th>\n      <th>Total Emission Reductions (MTCO2e/yr)</th>\n      <th>Awarded USDA Funding?</th>\n      <th>Codigestion</th>\n    </tr>\n  </thead>\n  <tbody>\n    <tr>\n      <th>0</th>\n      <td>Cargill - Sandy River Farm Digester</td>\n      <td>Farm Scale</td>\n      <td>Morrilton</td>\n      <td>Conway</td>\n      <td>AR</td>\n      <td>Covered Lagoon</td>\n      <td>Operational</td>\n      <td>2008.0</td>\n      <td>Swine</td>\n      <td>NaN</td>\n      <td>...</td>\n      <td>8400.0</td>\n      <td>None</td>\n      <td>1814400.0</td>\n      <td>NaN</td>\n      <td>Flared Full-time</td>\n      <td>Martin Construction Resource LLC (formerly RCM...</td>\n      <td>NaN</td>\n      <td>4002.460092</td>\n      <td>NaN</td>\n      <td>None</td>\n    </tr>\n    <tr>\n      <th>1</th>\n      <td>Paloma Dairy Digester</td>\n      <td>Farm Scale</td>\n      <td>Gila Bend</td>\n      <td>Maricopa</td>\n      <td>AZ</td>\n      <td>Covered Lagoon</td>\n      <td>Construction</td>\n      <td>NaN</td>\n      <td>Dairy</td>\n      <td>NaN</td>\n      <td>...</td>\n      <td>NaN</td>\n      <td>None</td>\n      <td>NaN</td>\n      <td>NaN</td>\n      <td>CNG</td>\n      <td>Fortistar, LLC [Project Developer]; Industrial...</td>\n      <td>Southwest Gas Company</td>\n      <td>90025.627853</td>\n      <td>NaN</td>\n      <td>None</td>\n    </tr>\n    <tr>\n      <th>2</th>\n      <td>Stotz Southern Dairy Digester</td>\n      <td>Farm Scale</td>\n      <td>Buckeye</td>\n      <td>Maricopa</td>\n      <td>AZ</td>\n      <td>Covered Lagoon</td>\n      <td>Operational</td>\n      <td>2011.0</td>\n      <td>Dairy</td>\n      <td>NaN</td>\n      <td>...</td>\n      <td>NaN</td>\n      <td>None</td>\n      <td>NaN</td>\n      <td>5256000.0</td>\n      <td>Electricity</td>\n      <td>Chapel Street Environmental [System Design Eng...</td>\n      <td>Arizona Public Service</td>\n      <td>138786.936883</td>\n      <td>NaN</td>\n      <td>None</td>\n    </tr>\n    <tr>\n      <th>3</th>\n      <td>Triple G Dairy Digester</td>\n      <td>Farm Scale</td>\n      <td>Buckeye</td>\n      <td>Maricopa</td>\n      <td>AZ</td>\n      <td>Covered Lagoon</td>\n      <td>Operational</td>\n      <td>2011.0</td>\n      <td>Dairy</td>\n      <td>NaN</td>\n      <td>...</td>\n      <td>NaN</td>\n      <td>None</td>\n      <td>NaN</td>\n      <td>4467600.0</td>\n      <td>Cogeneration</td>\n      <td>Chapel Street Environmental [System Design Eng...</td>\n      <td>Arizona Public Service Co.</td>\n      <td>39196.471980</td>\n      <td>NaN</td>\n      <td>None</td>\n    </tr>\n    <tr>\n      <th>4</th>\n      <td>4K Dairy Digester</td>\n      <td>Farm Scale</td>\n      <td>Pixley</td>\n      <td>Tulare</td>\n      <td>CA</td>\n      <td>Covered Lagoon</td>\n      <td>Operational</td>\n      <td>2020.0</td>\n      <td>Dairy</td>\n      <td>NaN</td>\n      <td>...</td>\n      <td>NaN</td>\n      <td>None</td>\n      <td>NaN</td>\n      <td>NaN</td>\n      <td>CNG</td>\n      <td>Maas Energy Works [Project Developer]</td>\n      <td>SoCalGas</td>\n      <td>39694.379011</td>\n      <td>NaN</td>\n      <td>None</td>\n    </tr>\n  </tbody>\n</table>\n<p>5 rows × 22 columns</p>\n</div>"
     },
     "metadata": {},
     "execution_count": 11
    }
   ],
   "source": [
    "# Rename Codigestion columns to make a bit more sense\n",
    "dfAgriculture.rename(columns={'Co-Digestion':'CoDigestion Details'})\n",
    "dfAgriculture.head()"
   ]
  },
  {
   "cell_type": "code",
   "execution_count": 12,
   "metadata": {},
   "outputs": [
    {
     "output_type": "execute_result",
     "data": {
      "text/plain": [
       "array(['Flared Full-time', 'CNG', 'Electricity', 'Cogeneration',\n",
       "       'Cogeneration; Refrigeration', 'Electricity; CNG',\n",
       "       'Boiler/Furnace fuel; CNG', 'Cogeneration; Boiler/Furnace fuel',\n",
       "       'Electricity; Cogeneration', 'Boiler/Furnace fuel',\n",
       "       'Electricity; Boiler/Furnace fuel', 'Pipeline Gas',\n",
       "       'Cogeneration; CNG', 'Pipeline to Electricity',\n",
       "       'Cogeneration; Pipeline Gas', nan,\n",
       "       'Electricity; Boiler/Furnace fuel; CNG',\n",
       "       'Electricity; Cogeneration; Boiler/Furnace fuel',\n",
       "       'Electricity; Pipeline Gas'], dtype=object)"
      ]
     },
     "metadata": {},
     "execution_count": 12
    }
   ],
   "source": [
    "# What are the potential end uses?\n",
    "dfAgriculture['Biogas End Use(s)'].unique()"
   ]
  },
  {
   "cell_type": "code",
   "execution_count": 13,
   "metadata": {},
   "outputs": [],
   "source": [
    "# For unknown end gas uses, fill as unknown\n",
    "dfAgriculture['Biogas End Use(s)']=dfAgriculture['Biogas End Use(s)'].fillna('Unknown')"
   ]
  },
  {
   "cell_type": "code",
   "execution_count": 14,
   "metadata": {},
   "outputs": [],
   "source": [
    "# Want only one entry in end use column (Flared, Heat, Electricity, Cogeneration, Sales), consider making second end use column?\n",
    "flaredMask=dfAgriculture['Biogas End Use(s)'].str.contains('Flare')\n",
    "electricityMask=dfAgriculture['Biogas End Use(s)'].str.contains('elec|Elec')\n",
    "cogenerationMask=dfAgriculture['Biogas End Use(s)'].str.contains('Cogen')\n",
    "cngMask=dfAgriculture['Biogas End Use(s)'].str.contains('CNG')\n",
    "furnaceMask=dfAgriculture['Biogas End Use(s)'].str.contains('Furn')\n",
    "pipelineMask=dfAgriculture['Biogas End Use(s)'].str.contains('Gas')\n"
   ]
  },
  {
   "cell_type": "code",
   "execution_count": 15,
   "metadata": {},
   "outputs": [
    {
     "output_type": "execute_result",
     "data": {
      "text/plain": [
       "array(['Flared', 'Sales', 'Electricity', 'Cogeneration', 'Heat',\n",
       "       'Unknown'], dtype=object)"
      ]
     },
     "metadata": {},
     "execution_count": 15
    }
   ],
   "source": [
    "# Apply End Use masks to dataframe\n",
    "dfAgriculture['Biogas End Use(s)'][flaredMask]='Flared'\n",
    "dfAgriculture['Biogas End Use(s)'][electricityMask]='Electricity'\n",
    "dfAgriculture['Biogas End Use(s)'][cogenerationMask]='Cogeneration'\n",
    "dfAgriculture['Biogas End Use(s)'][cngMask]='Sales'\n",
    "dfAgriculture['Biogas End Use(s)'][furnaceMask]='Heat'\n",
    "dfAgriculture['Biogas End Use(s)'][pipelineMask]='Sales'\n",
    "dfAgriculture['Biogas End Use(s)'][electricityMask & furnaceMask]='Cogeneration'\n",
    "dfAgriculture['Biogas End Use(s)'][electricityMask]='Electricity'\n",
    "dfAgriculture['Biogas End Use(s)'].unique()\n"
   ]
  },
  {
   "cell_type": "code",
   "execution_count": 16,
   "metadata": {},
   "outputs": [],
   "source": [
    "#   Concatenate City and State to get single city/state column for geocoding\n",
    "dfAgriculture['City/State']=dfAgriculture['City']+', '+dfAgriculture['State']"
   ]
  },
  {
   "cell_type": "code",
   "execution_count": 38,
   "metadata": {},
   "outputs": [
    {
     "output_type": "error",
     "ename": "KeyError",
     "evalue": "\"['Point' 'Altitude' 'Location'] not found in axis\"",
     "traceback": [
      "\u001b[0;31m---------------------------------------------------------------------------\u001b[0m",
      "\u001b[0;31mKeyError\u001b[0m                                  Traceback (most recent call last)",
      "\u001b[0;32m<ipython-input-38-3d869713bf87>\u001b[0m in \u001b[0;36m<module>\u001b[0;34m\u001b[0m\n\u001b[1;32m      4\u001b[0m \u001b[0mdfAgriculture\u001b[0m\u001b[0;34m[\u001b[0m\u001b[0;34m'Point'\u001b[0m\u001b[0;34m]\u001b[0m\u001b[0;34m=\u001b[0m\u001b[0mdfAgriculture\u001b[0m\u001b[0;34m[\u001b[0m\u001b[0;34m'Location'\u001b[0m\u001b[0;34m]\u001b[0m\u001b[0;34m.\u001b[0m\u001b[0mapply\u001b[0m\u001b[0;34m(\u001b[0m\u001b[0;32mlambda\u001b[0m \u001b[0mloc\u001b[0m\u001b[0;34m:\u001b[0m \u001b[0mtuple\u001b[0m\u001b[0;34m(\u001b[0m\u001b[0mloc\u001b[0m\u001b[0;34m.\u001b[0m\u001b[0mpoint\u001b[0m\u001b[0;34m)\u001b[0m \u001b[0;32mif\u001b[0m \u001b[0mloc\u001b[0m \u001b[0;32melse\u001b[0m \u001b[0;32mNone\u001b[0m\u001b[0;34m)\u001b[0m\u001b[0;34m\u001b[0m\u001b[0;34m\u001b[0m\u001b[0m\n\u001b[1;32m      5\u001b[0m \u001b[0mdfAgriculture\u001b[0m\u001b[0;34m[\u001b[0m\u001b[0;34m[\u001b[0m\u001b[0;34m'Latitude'\u001b[0m\u001b[0;34m,\u001b[0m\u001b[0;34m'Longitude'\u001b[0m\u001b[0;34m,\u001b[0m\u001b[0;34m'Altitude'\u001b[0m\u001b[0;34m]\u001b[0m\u001b[0;34m]\u001b[0m\u001b[0;34m=\u001b[0m\u001b[0mpd\u001b[0m\u001b[0;34m.\u001b[0m\u001b[0mDataFrame\u001b[0m\u001b[0;34m(\u001b[0m\u001b[0mdfAgriculture\u001b[0m\u001b[0;34m[\u001b[0m\u001b[0;34m'Point'\u001b[0m\u001b[0;34m]\u001b[0m\u001b[0;34m.\u001b[0m\u001b[0mtolist\u001b[0m\u001b[0;34m(\u001b[0m\u001b[0;34m)\u001b[0m\u001b[0;34m,\u001b[0m \u001b[0mindex\u001b[0m\u001b[0;34m=\u001b[0m\u001b[0mdfAgriculture\u001b[0m\u001b[0;34m.\u001b[0m\u001b[0mindex\u001b[0m\u001b[0;34m)\u001b[0m\u001b[0;34m\u001b[0m\u001b[0;34m\u001b[0m\u001b[0m\n\u001b[0;32m----> 6\u001b[0;31m \u001b[0mdfAgriculture\u001b[0m\u001b[0;34m=\u001b[0m\u001b[0mdfAgriculture\u001b[0m\u001b[0;34m.\u001b[0m\u001b[0mdrop\u001b[0m\u001b[0;34m(\u001b[0m\u001b[0;34m[\u001b[0m\u001b[0;34m'Point'\u001b[0m\u001b[0;34m,\u001b[0m\u001b[0;34m'Altitude'\u001b[0m\u001b[0;34m,\u001b[0m\u001b[0;34m'Location'\u001b[0m\u001b[0;34m]\u001b[0m\u001b[0;34m)\u001b[0m\u001b[0;34m\u001b[0m\u001b[0;34m\u001b[0m\u001b[0m\n\u001b[0m",
      "\u001b[0;32m/opt/anaconda3/lib/python3.8/site-packages/pandas/core/frame.py\u001b[0m in \u001b[0;36mdrop\u001b[0;34m(self, labels, axis, index, columns, level, inplace, errors)\u001b[0m\n\u001b[1;32m   3988\u001b[0m                 \u001b[0mweight\u001b[0m  \u001b[0;36m1.0\u001b[0m     \u001b[0;36m0.8\u001b[0m\u001b[0;34m\u001b[0m\u001b[0;34m\u001b[0m\u001b[0m\n\u001b[1;32m   3989\u001b[0m         \"\"\"\n\u001b[0;32m-> 3990\u001b[0;31m         return super().drop(\n\u001b[0m\u001b[1;32m   3991\u001b[0m             \u001b[0mlabels\u001b[0m\u001b[0;34m=\u001b[0m\u001b[0mlabels\u001b[0m\u001b[0;34m,\u001b[0m\u001b[0;34m\u001b[0m\u001b[0;34m\u001b[0m\u001b[0m\n\u001b[1;32m   3992\u001b[0m             \u001b[0maxis\u001b[0m\u001b[0;34m=\u001b[0m\u001b[0maxis\u001b[0m\u001b[0;34m,\u001b[0m\u001b[0;34m\u001b[0m\u001b[0;34m\u001b[0m\u001b[0m\n",
      "\u001b[0;32m/opt/anaconda3/lib/python3.8/site-packages/pandas/core/generic.py\u001b[0m in \u001b[0;36mdrop\u001b[0;34m(self, labels, axis, index, columns, level, inplace, errors)\u001b[0m\n\u001b[1;32m   3934\u001b[0m         \u001b[0;32mfor\u001b[0m \u001b[0maxis\u001b[0m\u001b[0;34m,\u001b[0m \u001b[0mlabels\u001b[0m \u001b[0;32min\u001b[0m \u001b[0maxes\u001b[0m\u001b[0;34m.\u001b[0m\u001b[0mitems\u001b[0m\u001b[0;34m(\u001b[0m\u001b[0;34m)\u001b[0m\u001b[0;34m:\u001b[0m\u001b[0;34m\u001b[0m\u001b[0;34m\u001b[0m\u001b[0m\n\u001b[1;32m   3935\u001b[0m             \u001b[0;32mif\u001b[0m \u001b[0mlabels\u001b[0m \u001b[0;32mis\u001b[0m \u001b[0;32mnot\u001b[0m \u001b[0;32mNone\u001b[0m\u001b[0;34m:\u001b[0m\u001b[0;34m\u001b[0m\u001b[0;34m\u001b[0m\u001b[0m\n\u001b[0;32m-> 3936\u001b[0;31m                 \u001b[0mobj\u001b[0m \u001b[0;34m=\u001b[0m \u001b[0mobj\u001b[0m\u001b[0;34m.\u001b[0m\u001b[0m_drop_axis\u001b[0m\u001b[0;34m(\u001b[0m\u001b[0mlabels\u001b[0m\u001b[0;34m,\u001b[0m \u001b[0maxis\u001b[0m\u001b[0;34m,\u001b[0m \u001b[0mlevel\u001b[0m\u001b[0;34m=\u001b[0m\u001b[0mlevel\u001b[0m\u001b[0;34m,\u001b[0m \u001b[0merrors\u001b[0m\u001b[0;34m=\u001b[0m\u001b[0merrors\u001b[0m\u001b[0;34m)\u001b[0m\u001b[0;34m\u001b[0m\u001b[0;34m\u001b[0m\u001b[0m\n\u001b[0m\u001b[1;32m   3937\u001b[0m \u001b[0;34m\u001b[0m\u001b[0m\n\u001b[1;32m   3938\u001b[0m         \u001b[0;32mif\u001b[0m \u001b[0minplace\u001b[0m\u001b[0;34m:\u001b[0m\u001b[0;34m\u001b[0m\u001b[0;34m\u001b[0m\u001b[0m\n",
      "\u001b[0;32m/opt/anaconda3/lib/python3.8/site-packages/pandas/core/generic.py\u001b[0m in \u001b[0;36m_drop_axis\u001b[0;34m(self, labels, axis, level, errors)\u001b[0m\n\u001b[1;32m   3968\u001b[0m                 \u001b[0mnew_axis\u001b[0m \u001b[0;34m=\u001b[0m \u001b[0maxis\u001b[0m\u001b[0;34m.\u001b[0m\u001b[0mdrop\u001b[0m\u001b[0;34m(\u001b[0m\u001b[0mlabels\u001b[0m\u001b[0;34m,\u001b[0m \u001b[0mlevel\u001b[0m\u001b[0;34m=\u001b[0m\u001b[0mlevel\u001b[0m\u001b[0;34m,\u001b[0m \u001b[0merrors\u001b[0m\u001b[0;34m=\u001b[0m\u001b[0merrors\u001b[0m\u001b[0;34m)\u001b[0m\u001b[0;34m\u001b[0m\u001b[0;34m\u001b[0m\u001b[0m\n\u001b[1;32m   3969\u001b[0m             \u001b[0;32melse\u001b[0m\u001b[0;34m:\u001b[0m\u001b[0;34m\u001b[0m\u001b[0;34m\u001b[0m\u001b[0m\n\u001b[0;32m-> 3970\u001b[0;31m                 \u001b[0mnew_axis\u001b[0m \u001b[0;34m=\u001b[0m \u001b[0maxis\u001b[0m\u001b[0;34m.\u001b[0m\u001b[0mdrop\u001b[0m\u001b[0;34m(\u001b[0m\u001b[0mlabels\u001b[0m\u001b[0;34m,\u001b[0m \u001b[0merrors\u001b[0m\u001b[0;34m=\u001b[0m\u001b[0merrors\u001b[0m\u001b[0;34m)\u001b[0m\u001b[0;34m\u001b[0m\u001b[0;34m\u001b[0m\u001b[0m\n\u001b[0m\u001b[1;32m   3971\u001b[0m             \u001b[0mresult\u001b[0m \u001b[0;34m=\u001b[0m \u001b[0mself\u001b[0m\u001b[0;34m.\u001b[0m\u001b[0mreindex\u001b[0m\u001b[0;34m(\u001b[0m\u001b[0;34m**\u001b[0m\u001b[0;34m{\u001b[0m\u001b[0maxis_name\u001b[0m\u001b[0;34m:\u001b[0m \u001b[0mnew_axis\u001b[0m\u001b[0;34m}\u001b[0m\u001b[0;34m)\u001b[0m\u001b[0;34m\u001b[0m\u001b[0;34m\u001b[0m\u001b[0m\n\u001b[1;32m   3972\u001b[0m \u001b[0;34m\u001b[0m\u001b[0m\n",
      "\u001b[0;32m/opt/anaconda3/lib/python3.8/site-packages/pandas/core/indexes/base.py\u001b[0m in \u001b[0;36mdrop\u001b[0;34m(self, labels, errors)\u001b[0m\n\u001b[1;32m   5016\u001b[0m         \u001b[0;32mif\u001b[0m \u001b[0mmask\u001b[0m\u001b[0;34m.\u001b[0m\u001b[0many\u001b[0m\u001b[0;34m(\u001b[0m\u001b[0;34m)\u001b[0m\u001b[0;34m:\u001b[0m\u001b[0;34m\u001b[0m\u001b[0;34m\u001b[0m\u001b[0m\n\u001b[1;32m   5017\u001b[0m             \u001b[0;32mif\u001b[0m \u001b[0merrors\u001b[0m \u001b[0;34m!=\u001b[0m \u001b[0;34m\"ignore\"\u001b[0m\u001b[0;34m:\u001b[0m\u001b[0;34m\u001b[0m\u001b[0;34m\u001b[0m\u001b[0m\n\u001b[0;32m-> 5018\u001b[0;31m                 \u001b[0;32mraise\u001b[0m \u001b[0mKeyError\u001b[0m\u001b[0;34m(\u001b[0m\u001b[0;34mf\"{labels[mask]} not found in axis\"\u001b[0m\u001b[0;34m)\u001b[0m\u001b[0;34m\u001b[0m\u001b[0;34m\u001b[0m\u001b[0m\n\u001b[0m\u001b[1;32m   5019\u001b[0m             \u001b[0mindexer\u001b[0m \u001b[0;34m=\u001b[0m \u001b[0mindexer\u001b[0m\u001b[0;34m[\u001b[0m\u001b[0;34m~\u001b[0m\u001b[0mmask\u001b[0m\u001b[0;34m]\u001b[0m\u001b[0;34m\u001b[0m\u001b[0;34m\u001b[0m\u001b[0m\n\u001b[1;32m   5020\u001b[0m         \u001b[0;32mreturn\u001b[0m \u001b[0mself\u001b[0m\u001b[0;34m.\u001b[0m\u001b[0mdelete\u001b[0m\u001b[0;34m(\u001b[0m\u001b[0mindexer\u001b[0m\u001b[0;34m)\u001b[0m\u001b[0;34m\u001b[0m\u001b[0;34m\u001b[0m\u001b[0m\n",
      "\u001b[0;31mKeyError\u001b[0m: \"['Point' 'Altitude' 'Location'] not found in axis\""
     ]
    }
   ],
   "source": [
    "geolocator=Nominatim(user_agent='McKay')\n",
    "latLon=RateLimiter(geolocator.geocode, min_delay_seconds=1)\n",
    "dfAgriculture['Location']=dfAgriculture['City/State'].apply(latLon)\n",
    "dfAgriculture['Point']=dfAgriculture['Location'].apply(lambda loc: tuple(loc.point) if loc else None)\n",
    "dfAgriculture[['Latitude','Longitude','Altitude']]=pd.DataFrame(dfAgriculture['Point'].tolist(), index=dfAgriculture.index)\n",
    "dfAgriculture=dfAgriculture.drop(['Point','Altitude','Location'])"
   ]
  },
  {
   "cell_type": "code",
   "execution_count": 39,
   "metadata": {},
   "outputs": [
    {
     "output_type": "execute_result",
     "data": {
      "text/plain": [
       "9           Covered Lagoon  Construction            2019.0   \n",
       "22           Covered Lagoon   Operational            2019.0   \n",
       "23           Covered Lagoon   Operational            2018.0   \n",
       "24           Covered Lagoon   Operational            2019.0   \n",
       "25           Covered Lagoon  Construction            2020.0   \n",
       "30           Covered Lagoon  Construction            2019.0   \n",
       "31           Covered Lagoon  Construction            2020.0   \n",
       "32           Covered Lagoon   Operational            2019.0   \n",
       "33           Covered Lagoon   Operational            2018.0   \n",
       "34           Covered Lagoon   Operational            2019.0   \n",
       "35           Covered Lagoon   Operational            2019.0   \n",
       "40           Covered Lagoon   Operational            2019.0   \n",
       "56          Mixed Plug Flow   Operational            2011.0   \n",
       "66          Mixed Plug Flow   Operational            2005.0   \n",
       "68          Mixed Plug Flow   Operational            2002.0   \n",
       "71          Mixed Plug Flow   Operational            2008.0   \n",
       "72          Mixed Plug Flow   Operational            2018.0   \n",
       "74          Mixed Plug Flow   Operational            2006.0   \n",
       "100          Covered Lagoon  Construction            2019.0   \n",
       "101          Covered Lagoon   Operational            2020.0   \n",
       "102          Covered Lagoon   Operational            2017.0   \n",
       "103          Covered Lagoon   Operational            2016.0   \n",
       "104          Covered Lagoon  Construction            2020.0   \n",
       "105          Covered Lagoon   Operational            2020.0   \n",
       "106          Covered Lagoon   Operational            2017.0   \n",
       "107          Covered Lagoon  Construction            2018.0   \n",
       "117  Unknown or Unspecified  Construction            2020.0   \n",
       "118  Unknown or Unspecified  Construction            2019.0   \n",
       "125  Unknown or Unspecified  Construction            2020.0   \n",
       "126  Unknown or Unspecified  Construction            2020.0   \n",
       "130         Mixed Plug Flow   Operational            2009.0   \n",
       "171         Mixed Plug Flow   Operational            2012.0   \n",
       "210          Covered Lagoon   Operational            2020.0   \n",
       "220            Complete Mix  Construction            2020.0   \n",
       "243         Mixed Plug Flow   Operational            2007.0   \n",
       "247         Mixed Plug Flow   Operational            2012.0   \n",
       "249            Complete Mix   Operational            2011.0   \n",
       "255         Mixed Plug Flow   Operational            2009.0   \n",
       "259            Complete Mix  Construction            2020.0   \n",
       "261         Mixed Plug Flow   Operational            2010.0   \n",
       "264  Unknown or Unspecified  Construction            2020.0   \n",
       "267  Unknown or Unspecified   Operational            2019.0   \n",
       "269         Mixed Plug Flow   Operational            2012.0   \n",
       "272         Mixed Plug Flow  Construction            2020.0   \n",
       "\n",
       "    Animal/Farm Type(s)  Cattle  ...               Receiving Utility  \\\n",
       "1                 Dairy     NaN  ...           Southwest Gas Company   \n",
       "4                 Dairy     NaN  ...                        SoCalGas   \n",
       "13                Dairy     NaN  ...                        SoCalGas   \n",
       "14                Dairy     NaN  ...                        SoCalGas   \n",
       "16                Dairy     NaN  ...                        SoCalGas   \n",
       "19                Dairy     NaN  ...                        SoCalGas   \n",
       "22                Dairy     NaN  ...                        SoCalGas   \n",
       "23                Dairy     NaN  ...                        SoCalGas   \n",
       "24                Dairy     NaN  ...                        SoCalGas   \n",
       "25                Dairy     NaN  ...                        SoCalGas   \n",
       "30                Dairy     NaN  ...                        SoCalGas   \n",
       "31                Dairy     NaN  ...                        SoCalGas   \n",
       "32                Dairy     NaN  ...                        SoCalGas   \n",
       "33                Dairy     NaN  ...                        SoCalGas   \n",
       "34                Dairy     NaN  ...                        SoCalGas   \n",
       "35                Dairy     NaN  ...                             NaN   \n",
       "40                Dairy     NaN  ...                        SoCalGas   \n",
       "56                Dairy     NaN  ...             Idaho Power Company   \n",
       "66                Dairy     NaN  ...                             NaN   \n",
       "68                Dairy     NaN  ...                             NaN   \n",
       "71                Dairy     NaN  ...              Jasper County REMC   \n",
       "72                Dairy     NaN  ...                             NaN   \n",
       "74                Dairy     NaN  ...                             NaN   \n",
       "100               Swine     NaN  ...                             NaN   \n",
       "101               Swine     NaN  ...                             NaN   \n",
       "102               Swine     NaN  ...         ANR Interstate Pipeline   \n",
       "103               Swine     NaN  ...         ANR Interstate Pipeline   \n",
       "104               Swine     NaN  ...                             NaN   \n",
       "105               Swine     NaN  ...                             NaN   \n",
       "106               Swine     NaN  ...         ANR Interstate Pipeline   \n",
       "107               Swine     NaN  ...                             NaN   \n",
       "117       Swine;Poultry     NaN  ...                     Duke Energy   \n",
       "118             Broiler     NaN  ...            Piedmont Natural Gas   \n",
       "125               Swine     NaN  ...                             NaN   \n",
       "126               Swine     NaN  ...                             NaN   \n",
       "130               Dairy     NaN  ...  Empire interstate gas pipeline   \n",
       "171               Dairy     NaN  ...                             NaN   \n",
       "210               Swine     NaN  ...                 Dominion Energy   \n",
       "220               Dairy     NaN  ...                     Vermont Gas   \n",
       "243               Dairy     NaN  ...                             NaN   \n",
       "247               Dairy     NaN  ...                             NaN   \n",
       "249               Dairy     NaN  ...            ANR Pipeline Company   \n",
       "255               Dairy     NaN  ...                             NaN   \n",
       "259               Dairy     NaN  ...                             NaN   \n",
       "261               Dairy     NaN  ...                             NaN   \n",
       "264               Dairy     NaN  ...                             NaN   \n",
       "267               Dairy     NaN  ...                             NaN   \n",
       "269               Dairy     NaN  ...                             NaN   \n",
       "272               Dairy     NaN  ...                             NaN   \n",
       "\n",
       "     Total Emission Reductions (MTCO2e/yr)  Awarded USDA Funding?  \\\n",
       "1                             90025.627853                    NaN   \n",
       "4                             39694.379011                    NaN   \n",
       "13                            34692.887256                    NaN   \n",
       "14                            58946.152832                    NaN   \n",
       "16                            82167.364553                    NaN   \n",
       "19                            41282.154172                    NaN   \n",
       "22                            72918.574244                    NaN   \n",
       "23                            20307.644302                    NaN   \n",
       "24                            55167.247950                    NaN   \n",
       "25                           106380.935750                    NaN   \n",
       "30                            88986.858867                    NaN   \n",
       "31                           109556.486071                    NaN   \n",
       "32                            52714.135327                    NaN   \n",
       "33                            21077.715255                    NaN   \n",
       "34                            16671.639185                    NaN   \n",
       "35                            84152.083504                    NaN   \n",
       "40                            83834.528472                    NaN   \n",
       "56                           158639.683406                      Y   \n",
       "66                            27244.605652                    NaN   \n",
       "68                            10337.186154                    NaN   \n",
       "71                            38654.882160                    NaN   \n",
       "72                            11853.306790                    NaN   \n",
       "74                            52975.622101                    NaN   \n",
       "100                           32329.300151                    NaN   \n",
       "101                           32537.745081                    NaN   \n",
       "102                           14387.784153                    NaN   \n",
       "103                           29283.970573                    NaN   \n",
       "104                           61008.272026                    NaN   \n",
       "105                           25115.071984                    NaN   \n",
       "106                           21352.895209                    NaN   \n",
       "107                           80835.960435                    NaN   \n",
       "117                                    NaN                    NaN   \n",
       "118                                    NaN                    NaN   \n",
       "125                                    NaN                    NaN   \n",
       "126                                    NaN                    NaN   \n",
       "130                            6949.968628                    NaN   \n",
       "171                          252685.836145                    NaN   \n",
       "210                                    NaN                    NaN   \n",
       "220                            2747.256473                    NaN   \n",
       "243                           14661.814735                      Y   \n",
       "247                            8384.194196                      Y   \n",
       "249                           20945.449621                    NaN   \n",
       "255                           13236.043131                      Y   \n",
       "259                           27947.313987                    NaN   \n",
       "261                           20413.784521                      Y   \n",
       "264                           31790.069660                    NaN   \n",
       "267                                    NaN                    NaN   \n",
       "269                           12857.326784                    NaN   \n",
       "272                            8149.556191                    NaN   \n",
       "\n",
       "                 Codigestion         City/State  \\\n",
       "1                       None      Gila Bend, AZ   \n",
       "4                       None         Pixley, CA   \n",
       "13                      None         Pixley, CA   \n",
       "14                      None         Tipton, CA   \n",
       "16                      None         Tulare, CA   \n",
       "19                      None         Tipton, CA   \n",
       "22                      None         Pixley, CA   \n",
       "23                      None         Pixley, CA   \n",
       "24                      None         Tipton, CA   \n",
       "25                      None        Hanford, CA   \n",
       "30                      None         Pixley, CA   \n",
       "31                      None        Hanford, CA   \n",
       "32                      None         Pixley, CA   \n",
       "33                      None         Pixley, CA   \n",
       "34                      None         Tipton, CA   \n",
       "35                      None        Hanford, CA   \n",
       "40                      None         Pixley, CA   \n",
       "56                      None         Jerome, ID   \n",
       "66                      None      Fair Oaks, IN   \n",
       "68                      None      Fair Oaks, IN   \n",
       "71                      None      Fair Oaks, IN   \n",
       "72                      None      Fair Oaks, IN   \n",
       "74                      None      Fair Oaks, IN   \n",
       "100                     None     Unionville, MO   \n",
       "101                     None      King City, MO   \n",
       "102                     None         Harris, MO   \n",
       "103                     None         Albany, MO   \n",
       "104                     None         Mercer, MO   \n",
       "105                     None       Browning, MO   \n",
       "106                     None     Green City, MO   \n",
       "107                     None     Unionville, MO   \n",
       "117                     Food         Warsaw, NC   \n",
       "118                     None     Lilesville, NC   \n",
       "125                     None         Monroe, NC   \n",
       "126                     None    Stantonburg, NC   \n",
       "130  Agricultural Substrates      Varysburg, NY   \n",
       "171                     None       Boardman, OR   \n",
       "210                     None        Milford, UT   \n",
       "220                     Food      Salisbury, VT   \n",
       "243                     None  Campbellsport, WI   \n",
       "247                     None       Brillion, WI   \n",
       "249                     Food         Vienna, WI   \n",
       "255                     None         Newton, WI   \n",
       "259                     None          Casco, WI   \n",
       "261                     None      Cleveland, WI   \n",
       "264                     None    Grand Marsh, WI   \n",
       "267                     None       Kewaunee, WI   \n",
       "269                     None   Sturgeon Bay, WI   \n",
       "272                     None    Sun Prairie, WI   \n",
       "\n",
       "                                              Location  \\\n",
       "1    (Gila Bend, Maricopa County, Arizona, 85337, U...   \n",
       "4    (Pixley, West Orrland Avenue, Pixley, Tulare C...   \n",
       "13   (Pixley, West Orrland Avenue, Pixley, Tulare C...   \n",
       "14   (Tipton, Avenue 152, Tipton, Tulare County, Ca...   \n",
       "16   (Tulare County, California, United States of A...   \n",
       "19   (Tipton, Avenue 152, Tipton, Tulare County, Ca...   \n",
       "22   (Pixley, West Orrland Avenue, Pixley, Tulare C...   \n",
       "23   (Pixley, West Orrland Avenue, Pixley, Tulare C...   \n",
       "24   (Tipton, Avenue 152, Tipton, Tulare County, Ca...   \n",
       "25   (Hanford, Kings County, California, 93230, Uni...   \n",
       "30   (Pixley, West Orrland Avenue, Pixley, Tulare C...   \n",
       "31   (Hanford, Kings County, California, 93230, Uni...   \n",
       "32   (Pixley, West Orrland Avenue, Pixley, Tulare C...   \n",
       "33   (Pixley, West Orrland Avenue, Pixley, Tulare C...   \n",
       "34   (Tipton, Avenue 152, Tipton, Tulare County, Ca...   \n",
       "35   (Hanford, Kings County, California, 93230, Uni...   \n",
       "40   (Pixley, West Orrland Avenue, Pixley, Tulare C...   \n",
       "56   (Jerome County, Idaho, United States of Americ...   \n",
       "66   (1, Fair Oaks, Laguna Niguel, Orange County, C...   \n",
       "68   (1, Fair Oaks, Laguna Niguel, Orange County, C...   \n",
       "71   (1, Fair Oaks, Laguna Niguel, Orange County, C...   \n",
       "72   (1, Fair Oaks, Laguna Niguel, Orange County, C...   \n",
       "74   (1, Fair Oaks, Laguna Niguel, Orange County, C...   \n",
       "100  (Unionville, Putnam County, Missouri, United S...   \n",
       "101  (King City, Gentry County, Missouri, 64463, Un...   \n",
       "102  (Harris, Sullivan County, Missouri, 64645, Uni...   \n",
       "103  (Albany, Gentry County, Missouri, 64402, Unite...   \n",
       "104  (Mercer County, Missouri, United States of Ame...   \n",
       "105  (Browning, Sullivan County, Missouri, 64630, U...   \n",
       "106  (Green City, Sullivan County, Missouri, 63545,...   \n",
       "107  (Unionville, Putnam County, Missouri, United S...   \n",
       "117  (Warsaw, Duplin County, North Carolina, 28398,...   \n",
       "118  (Lilesville, Anson County, North Carolina, 280...   \n",
       "125  (Monroe, Union County, North Carolina, United ...   \n",
       "126  (Stanton Place, MacGregor Park, Cary, Wake Cou...   \n",
       "130  (Varysburg, Wyoming County, New York, 14167, U...   \n",
       "171  (Boardman, Morrow County, Oregon, United State...   \n",
       "210  (Milford, Beaver County, Utah, 84751, United S...   \n",
       "220  (Salisbury, Addison County, Vermont, 05769, Un...   \n",
       "243  (Campbellsport, Fond du Lac County, Wisconsin,...   \n",
       "247  (Brillion, Calumet County, Wisconsin, 54110, U...   \n",
       "249  (Town of Vienna, Dane County, Wisconsin, Unite...   \n",
       "255  (Newton, Manitowoc County, Wisconsin, United S...   \n",
       "259  (Casco, Kewaunee County, Wisconsin, United Sta...   \n",
       "261  (Cleveland, Manitowoc County, Wisconsin, Unite...   \n",
       "264  (Grand Marsh, Town of New Chester, Adams Count...   \n",
       "267  (Kewaunee County, Wisconsin, United States of ...   \n",
       "269  (Sturgeon Bay, Door County, Wisconsin, 54235, ...   \n",
       "272  (Sun Prairie, Dane County, Wisconsin, United S...   \n",
       "\n",
       "                                              Point   Latitude   Longitude  \\\n",
       "1                   (32.9478267, -112.7168239, 0.0)  32.947827 -112.716824   \n",
       "4             (35.978775, -119.29479637596647, 0.0)  35.978775 -119.294796   \n",
       "13            (35.978775, -119.29479637596647, 0.0)  35.978775 -119.294796   \n",
       "14   (36.058815949999996, -119.31294805849555, 0.0)  36.058816 -119.312948   \n",
       "16                   (36.2516475, -118.852583, 0.0)  36.251647 -118.852583   \n",
       "19   (36.058815949999996, -119.31294805849555, 0.0)  36.058816 -119.312948   \n",
       "22            (35.978775, -119.29479637596647, 0.0)  35.978775 -119.294796   \n",
       "23            (35.978775, -119.29479637596647, 0.0)  35.978775 -119.294796   \n",
       "24   (36.058815949999996, -119.31294805849555, 0.0)  36.058816 -119.312948   \n",
       "25                  (36.3274502, -119.6456844, 0.0)  36.327450 -119.645684   \n",
       "30            (35.978775, -119.29479637596647, 0.0)  35.978775 -119.294796   \n",
       "31                  (36.3274502, -119.6456844, 0.0)  36.327450 -119.645684   \n",
       "32            (35.978775, -119.29479637596647, 0.0)  35.978775 -119.294796   \n",
       "33            (35.978775, -119.29479637596647, 0.0)  35.978775 -119.294796   \n",
       "34   (36.058815949999996, -119.31294805849555, 0.0)  36.058816 -119.312948   \n",
       "35                  (36.3274502, -119.6456844, 0.0)  36.327450 -119.645684   \n",
       "40            (35.978775, -119.29479637596647, 0.0)  35.978775 -119.294796   \n",
       "56                   (42.702266, -114.2867043, 0.0)  42.702266 -114.286704   \n",
       "66                  (33.5224537, -117.6842255, 0.0)  33.522454 -117.684225   \n",
       "68                  (33.5224537, -117.6842255, 0.0)  33.522454 -117.684225   \n",
       "71                  (33.5224537, -117.6842255, 0.0)  33.522454 -117.684225   \n",
       "72                  (33.5224537, -117.6842255, 0.0)  33.522454 -117.684225   \n",
       "74                  (33.5224537, -117.6842255, 0.0)  33.522454 -117.684225   \n",
       "100                  (40.4769606, -93.0032615, 0.0)  40.476961  -93.003261   \n",
       "101                   (40.0513843, -94.524125, 0.0)  40.051384  -94.524125   \n",
       "102                   (40.305847, -93.3502153, 0.0)  40.305847  -93.350215   \n",
       "103                   (40.2486069, -94.331068, 0.0)  40.248607  -94.331068   \n",
       "104                  (40.4095007, -93.5788706, 0.0)  40.409501  -93.578871   \n",
       "105            (40.0348625, -93.1599045055649, 0.0)  40.034863  -93.159905   \n",
       "106                    (40.268655, -92.953262, 0.0)  40.268655  -92.953262   \n",
       "107                  (40.4769606, -93.0032615, 0.0)  40.476961  -93.003261   \n",
       "117                   (34.9993329, -78.091101, 0.0)  34.999333  -78.091101   \n",
       "118                  (34.9676535, -79.9845032, 0.0)  34.967653  -79.984503   \n",
       "125                  (34.9854275, -80.5495112, 0.0)  34.985428  -80.549511   \n",
       "126   (35.706910199999996, -78.78505440011827, 0.0)  35.706910  -78.785054   \n",
       "130                  (42.7633936, -78.3097382, 0.0)  42.763394  -78.309738   \n",
       "171                  (45.839855, -119.7005834, 0.0)  45.839855 -119.700583   \n",
       "210                 (38.3969108, -113.0107892, 0.0)  38.396911 -113.010789   \n",
       "220                    (43.896903, -73.100281, 0.0)  43.896903  -73.100281   \n",
       "243                  (43.5984486, -88.2845233, 0.0)  43.598449  -88.284523   \n",
       "247                   (44.1772188, -88.064263, 0.0)  44.177219  -88.064263   \n",
       "249                  (43.2513875, -89.4207709, 0.0)  43.251387  -89.420771   \n",
       "255                   (43.993883, -87.7264746, 0.0)  43.993883  -87.726475   \n",
       "259                  (44.5577747, -87.6181461, 0.0)  44.557775  -87.618146   \n",
       "261                  (43.9149942, -87.7473085, 0.0)  43.914994  -87.747309   \n",
       "264                  (43.8869183, -89.7062359, 0.0)  43.886918  -89.706236   \n",
       "267                   (44.521282, -87.6301086, 0.0)  44.521282  -87.630109   \n",
       "269                   (44.8341639, -87.377042, 0.0)  44.834164  -87.377042   \n",
       "272                  (43.1834579, -89.2134359, 0.0)  43.183458  -89.213436   \n",
       "\n",
       "     Altitude  \n",
       "1         0.0  \n",
       "4         0.0  \n",
       "13        0.0  \n",
       "14        0.0  \n",
       "16        0.0  \n",
       "19        0.0  \n",
       "22        0.0  \n",
       "23        0.0  \n",
       "24        0.0  \n",
       "25        0.0  \n",
       "30        0.0  \n",
       "31        0.0  \n",
       "32        0.0  \n",
       "33        0.0  \n",
       "34        0.0  \n",
       "35        0.0  \n",
       "40        0.0  \n",
       "56        0.0  \n",
       "66        0.0  \n",
       "68        0.0  \n",
       "71        0.0  \n",
       "72        0.0  \n",
       "74        0.0  \n",
       "100       0.0  \n",
       "101       0.0  \n",
       "102       0.0  \n",
       "103       0.0  \n",
       "104       0.0  \n",
       "105       0.0  \n",
       "106       0.0  \n",
       "107       0.0  \n",
       "117       0.0  \n",
       "118       0.0  \n",
       "125       0.0  \n",
       "126       0.0  \n",
       "130       0.0  \n",
       "171       0.0  \n",
       "210       0.0  \n",
       "220       0.0  \n",
       "243       0.0  \n",
       "247       0.0  \n",
       "249       0.0  \n",
       "255       0.0  \n",
       "259       0.0  \n",
       "261       0.0  \n",
       "264       0.0  \n",
       "267       0.0  \n",
       "269       0.0  \n",
       "272       0.0  \n",
       "\n",
       "[49 rows x 28 columns]"
      ],
      "text/html": "<div>\n<style scoped>\n    .dataframe tbody tr th:only-of-type {\n        vertical-align: middle;\n    }\n\n    .dataframe tbody tr th {\n        vertical-align: top;\n    }\n\n    .dataframe thead th {\n        text-align: right;\n    }\n</style>\n<table border=\"1\" class=\"dataframe\">\n  <thead>\n    <tr style=\"text-align: right;\">\n      <th></th>\n      <th>Project Name</th>\n      <th>Project Type</th>\n      <th>City</th>\n      <th>County</th>\n      <th>State</th>\n      <th>Digester Type</th>\n      <th>Status</th>\n      <th>Year Operational</th>\n      <th>Animal/Farm Type(s)</th>\n      <th>Cattle</th>\n      <th>...</th>\n      <th>Receiving Utility</th>\n      <th>Total Emission Reductions (MTCO2e/yr)</th>\n      <th>Awarded USDA Funding?</th>\n      <th>Codigestion</th>\n      <th>City/State</th>\n      <th>Location</th>\n      <th>Point</th>\n      <th>Latitude</th>\n      <th>Longitude</th>\n      <th>Altitude</th>\n    </tr>\n  </thead>\n  <tbody>\n    <tr>\n      <th>1</th>\n      <td>Paloma Dairy Digester</td>\n      <td>Farm Scale</td>\n      <td>Gila Bend</td>\n      <td>Maricopa</td>\n      <td>AZ</td>\n      <td>Covered Lagoon</td>\n      <td>Construction</td>\n      <td>NaN</td>\n      <td>Dairy</td>\n      <td>NaN</td>\n      <td>...</td>\n      <td>Southwest Gas Company</td>\n      <td>90025.627853</td>\n      <td>NaN</td>\n      <td>None</td>\n      <td>Gila Bend, AZ</td>\n      <td>(Gila Bend, Maricopa County, Arizona, 85337, U...</td>\n      <td>(32.9478267, -112.7168239, 0.0)</td>\n      <td>32.947827</td>\n      <td>-112.716824</td>\n      <td>0.0</td>\n    </tr>\n    <tr>\n      <th>4</th>\n      <td>4K Dairy Digester</td>\n      <td>Farm Scale</td>\n      <td>Pixley</td>\n      <td>Tulare</td>\n      <td>CA</td>\n      <td>Covered Lagoon</td>\n      <td>Operational</td>\n      <td>2020.0</td>\n      <td>Dairy</td>\n      <td>NaN</td>\n      <td>...</td>\n      <td>SoCalGas</td>\n      <td>39694.379011</td>\n      <td>NaN</td>\n      <td>None</td>\n      <td>Pixley, CA</td>\n      <td>(Pixley, West Orrland Avenue, Pixley, Tulare C...</td>\n      <td>(35.978775, -119.29479637596647, 0.0)</td>\n      <td>35.978775</td>\n      <td>-119.294796</td>\n      <td>0.0</td>\n    </tr>\n    <tr>\n      <th>13</th>\n      <td>Circle A Dairy Digester</td>\n      <td>Farm Scale</td>\n      <td>Pixley</td>\n      <td>Tulare</td>\n      <td>CA</td>\n      <td>Covered Lagoon</td>\n      <td>Operational</td>\n      <td>2018.0</td>\n      <td>Dairy</td>\n      <td>NaN</td>\n      <td>...</td>\n      <td>SoCalGas</td>\n      <td>34692.887256</td>\n      <td>NaN</td>\n      <td>None</td>\n      <td>Pixley, CA</td>\n      <td>(Pixley, West Orrland Avenue, Pixley, Tulare C...</td>\n      <td>(35.978775, -119.29479637596647, 0.0)</td>\n      <td>35.978775</td>\n      <td>-119.294796</td>\n      <td>0.0</td>\n    </tr>\n    <tr>\n      <th>14</th>\n      <td>Cornerstone Dairy Digester</td>\n      <td>Farm Scale</td>\n      <td>Tipton</td>\n      <td>Tulare</td>\n      <td>CA</td>\n      <td>Covered Lagoon</td>\n      <td>Operational</td>\n      <td>2019.0</td>\n      <td>Dairy</td>\n      <td>NaN</td>\n      <td>...</td>\n      <td>SoCalGas</td>\n      <td>58946.152832</td>\n      <td>NaN</td>\n      <td>None</td>\n      <td>Tipton, CA</td>\n      <td>(Tipton, Avenue 152, Tipton, Tulare County, Ca...</td>\n      <td>(36.058815949999996, -119.31294805849555, 0.0)</td>\n      <td>36.058816</td>\n      <td>-119.312948</td>\n      <td>0.0</td>\n    </tr>\n    <tr>\n      <th>16</th>\n      <td>Decade Dairy Digester</td>\n      <td>Farm Scale</td>\n      <td>Tulare</td>\n      <td>Tulare</td>\n      <td>CA</td>\n      <td>Covered Lagoon</td>\n      <td>Construction</td>\n      <td>2020.0</td>\n      <td>Dairy</td>\n      <td>NaN</td>\n      <td>...</td>\n      <td>SoCalGas</td>\n      <td>82167.364553</td>\n      <td>NaN</td>\n      <td>None</td>\n      <td>Tulare, CA</td>\n      <td>(Tulare County, California, United States of A...</td>\n      <td>(36.2516475, -118.852583, 0.0)</td>\n      <td>36.251647</td>\n      <td>-118.852583</td>\n      <td>0.0</td>\n    </tr>\n    <tr>\n      <th>19</th>\n      <td>FM Jerseys Dairy Digester</td>\n      <td>Farm Scale</td>\n      <td>Tipton</td>\n      <td>Tulare</td>\n      <td>CA</td>\n      <td>Covered Lagoon</td>\n      <td>Construction</td>\n      <td>2019.0</td>\n      <td>Dairy</td>\n      <td>NaN</td>\n      <td>...</td>\n      <td>SoCalGas</td>\n      <td>41282.154172</td>\n      <td>NaN</td>\n      <td>None</td>\n      <td>Tipton, CA</td>\n      <td>(Tipton, Avenue 152, Tipton, Tulare County, Ca...</td>\n      <td>(36.058815949999996, -119.31294805849555, 0.0)</td>\n      <td>36.058816</td>\n      <td>-119.312948</td>\n      <td>0.0</td>\n    </tr>\n    <tr>\n      <th>22</th>\n      <td>K &amp; M Visser Dairy Digester</td>\n      <td>Farm Scale</td>\n      <td>Pixley</td>\n      <td>Tulare</td>\n      <td>CA</td>\n      <td>Covered Lagoon</td>\n      <td>Operational</td>\n      <td>2019.0</td>\n      <td>Dairy</td>\n      <td>NaN</td>\n      <td>...</td>\n      <td>SoCalGas</td>\n      <td>72918.574244</td>\n      <td>NaN</td>\n      <td>None</td>\n      <td>Pixley, CA</td>\n      <td>(Pixley, West Orrland Avenue, Pixley, Tulare C...</td>\n      <td>(35.978775, -119.29479637596647, 0.0)</td>\n      <td>35.978775</td>\n      <td>-119.294796</td>\n      <td>0.0</td>\n    </tr>\n    <tr>\n      <th>23</th>\n      <td>Legacy Dairy Digester</td>\n      <td>Farm Scale</td>\n      <td>Pixley</td>\n      <td>Tulare</td>\n      <td>CA</td>\n      <td>Covered Lagoon</td>\n      <td>Operational</td>\n      <td>2018.0</td>\n      <td>Dairy</td>\n      <td>NaN</td>\n      <td>...</td>\n      <td>SoCalGas</td>\n      <td>20307.644302</td>\n      <td>NaN</td>\n      <td>None</td>\n      <td>Pixley, CA</td>\n      <td>(Pixley, West Orrland Avenue, Pixley, Tulare C...</td>\n      <td>(35.978775, -119.29479637596647, 0.0)</td>\n      <td>35.978775</td>\n      <td>-119.294796</td>\n      <td>0.0</td>\n    </tr>\n    <tr>\n      <th>24</th>\n      <td>Little Rock Dairy Digester</td>\n      <td>Farm Scale</td>\n      <td>Tipton</td>\n      <td>Tulare</td>\n      <td>CA</td>\n      <td>Covered Lagoon</td>\n      <td>Operational</td>\n      <td>2019.0</td>\n      <td>Dairy</td>\n      <td>NaN</td>\n      <td>...</td>\n      <td>SoCalGas</td>\n      <td>55167.247950</td>\n      <td>NaN</td>\n      <td>None</td>\n      <td>Tipton, CA</td>\n      <td>(Tipton, Avenue 152, Tipton, Tulare County, Ca...</td>\n      <td>(36.058815949999996, -119.31294805849555, 0.0)</td>\n      <td>36.058816</td>\n      <td>-119.312948</td>\n      <td>0.0</td>\n    </tr>\n    <tr>\n      <th>25</th>\n      <td>Lone Oak #1 Dairy Digester</td>\n      <td>Farm Scale</td>\n      <td>Hanford</td>\n      <td>Kings</td>\n      <td>CA</td>\n      <td>Covered Lagoon</td>\n      <td>Construction</td>\n      <td>2020.0</td>\n      <td>Dairy</td>\n      <td>NaN</td>\n      <td>...</td>\n      <td>SoCalGas</td>\n      <td>106380.935750</td>\n      <td>NaN</td>\n      <td>None</td>\n      <td>Hanford, CA</td>\n      <td>(Hanford, Kings County, California, 93230, Uni...</td>\n      <td>(36.3274502, -119.6456844, 0.0)</td>\n      <td>36.327450</td>\n      <td>-119.645684</td>\n      <td>0.0</td>\n    </tr>\n    <tr>\n      <th>30</th>\n      <td>Pixley Dairy Digester</td>\n      <td>Farm Scale</td>\n      <td>Pixley</td>\n      <td>Tulare</td>\n      <td>CA</td>\n      <td>Covered Lagoon</td>\n      <td>Construction</td>\n      <td>2019.0</td>\n      <td>Dairy</td>\n      <td>NaN</td>\n      <td>...</td>\n      <td>SoCalGas</td>\n      <td>88986.858867</td>\n      <td>NaN</td>\n      <td>None</td>\n      <td>Pixley, CA</td>\n      <td>(Pixley, West Orrland Avenue, Pixley, Tulare C...</td>\n      <td>(35.978775, -119.29479637596647, 0.0)</td>\n      <td>35.978775</td>\n      <td>-119.294796</td>\n      <td>0.0</td>\n    </tr>\n    <tr>\n      <th>31</th>\n      <td>River Ranch Dairy Digester</td>\n      <td>Farm Scale</td>\n      <td>Hanford</td>\n      <td>Kings</td>\n      <td>CA</td>\n      <td>Covered Lagoon</td>\n      <td>Construction</td>\n      <td>2020.0</td>\n      <td>Dairy</td>\n      <td>NaN</td>\n      <td>...</td>\n      <td>SoCalGas</td>\n      <td>109556.486071</td>\n      <td>NaN</td>\n      <td>None</td>\n      <td>Hanford, CA</td>\n      <td>(Hanford, Kings County, California, 93230, Uni...</td>\n      <td>(36.3274502, -119.6456844, 0.0)</td>\n      <td>36.327450</td>\n      <td>-119.645684</td>\n      <td>0.0</td>\n    </tr>\n    <tr>\n      <th>32</th>\n      <td>Riverview Dairy (CA) Digester</td>\n      <td>Farm Scale</td>\n      <td>Pixley</td>\n      <td>Tulare</td>\n      <td>CA</td>\n      <td>Covered Lagoon</td>\n      <td>Operational</td>\n      <td>2019.0</td>\n      <td>Dairy</td>\n      <td>NaN</td>\n      <td>...</td>\n      <td>SoCalGas</td>\n      <td>52714.135327</td>\n      <td>NaN</td>\n      <td>None</td>\n      <td>Pixley, CA</td>\n      <td>(Pixley, West Orrland Avenue, Pixley, Tulare C...</td>\n      <td>(35.978775, -119.29479637596647, 0.0)</td>\n      <td>35.978775</td>\n      <td>-119.294796</td>\n      <td>0.0</td>\n    </tr>\n    <tr>\n      <th>33</th>\n      <td>Robert Vander Eyk Dairy Digester</td>\n      <td>Farm Scale</td>\n      <td>Pixley</td>\n      <td>Tulare</td>\n      <td>CA</td>\n      <td>Covered Lagoon</td>\n      <td>Operational</td>\n      <td>2018.0</td>\n      <td>Dairy</td>\n      <td>NaN</td>\n      <td>...</td>\n      <td>SoCalGas</td>\n      <td>21077.715255</td>\n      <td>NaN</td>\n      <td>None</td>\n      <td>Pixley, CA</td>\n      <td>(Pixley, West Orrland Avenue, Pixley, Tulare C...</td>\n      <td>(35.978775, -119.29479637596647, 0.0)</td>\n      <td>35.978775</td>\n      <td>-119.294796</td>\n      <td>0.0</td>\n    </tr>\n    <tr>\n      <th>34</th>\n      <td>Sousa &amp; Sousa Dairy Digester</td>\n      <td>Farm Scale</td>\n      <td>Tipton</td>\n      <td>Tulare</td>\n      <td>CA</td>\n      <td>Covered Lagoon</td>\n      <td>Operational</td>\n      <td>2019.0</td>\n      <td>Dairy</td>\n      <td>NaN</td>\n      <td>...</td>\n      <td>SoCalGas</td>\n      <td>16671.639185</td>\n      <td>NaN</td>\n      <td>None</td>\n      <td>Tipton, CA</td>\n      <td>(Tipton, Avenue 152, Tipton, Tulare County, Ca...</td>\n      <td>(36.058815949999996, -119.31294805849555, 0.0)</td>\n      <td>36.058816</td>\n      <td>-119.312948</td>\n      <td>0.0</td>\n    </tr>\n    <tr>\n      <th>35</th>\n      <td>Still Water Ranch Digester</td>\n      <td>Farm Scale</td>\n      <td>Hanford</td>\n      <td>Kings</td>\n      <td>CA</td>\n      <td>Covered Lagoon</td>\n      <td>Operational</td>\n      <td>2019.0</td>\n      <td>Dairy</td>\n      <td>NaN</td>\n      <td>...</td>\n      <td>NaN</td>\n      <td>84152.083504</td>\n      <td>NaN</td>\n      <td>None</td>\n      <td>Hanford, CA</td>\n      <td>(Hanford, Kings County, California, 93230, Uni...</td>\n      <td>(36.3274502, -119.6456844, 0.0)</td>\n      <td>36.327450</td>\n      <td>-119.645684</td>\n      <td>0.0</td>\n    </tr>\n    <tr>\n      <th>40</th>\n      <td>Vander Poel Dairy Digester</td>\n      <td>Farm Scale</td>\n      <td>Pixley</td>\n      <td>Tulare</td>\n      <td>CA</td>\n      <td>Covered Lagoon</td>\n      <td>Operational</td>\n      <td>2019.0</td>\n      <td>Dairy</td>\n      <td>NaN</td>\n      <td>...</td>\n      <td>SoCalGas</td>\n      <td>83834.528472</td>\n      <td>NaN</td>\n      <td>None</td>\n      <td>Pixley, CA</td>\n      <td>(Pixley, West Orrland Avenue, Pixley, Tulare C...</td>\n      <td>(35.978775, -119.29479637596647, 0.0)</td>\n      <td>35.978775</td>\n      <td>-119.294796</td>\n      <td>0.0</td>\n    </tr>\n    <tr>\n      <th>56</th>\n      <td>AgPower Jerome LLC - Double A Dairy Digester</td>\n      <td>Farm Scale</td>\n      <td>Jerome</td>\n      <td>Jerome</td>\n      <td>ID</td>\n      <td>Mixed Plug Flow</td>\n      <td>Operational</td>\n      <td>2011.0</td>\n      <td>Dairy</td>\n      <td>NaN</td>\n      <td>...</td>\n      <td>Idaho Power Company</td>\n      <td>158639.683406</td>\n      <td>Y</td>\n      <td>None</td>\n      <td>Jerome, ID</td>\n      <td>(Jerome County, Idaho, United States of Americ...</td>\n      <td>(42.702266, -114.2867043, 0.0)</td>\n      <td>42.702266</td>\n      <td>-114.286704</td>\n      <td>0.0</td>\n    </tr>\n    <tr>\n      <th>66</th>\n      <td>Bos Dairy Digester</td>\n      <td>Farm Scale</td>\n      <td>Fair Oaks</td>\n      <td>Jasper</td>\n      <td>IN</td>\n      <td>Mixed Plug Flow</td>\n      <td>Operational</td>\n      <td>2005.0</td>\n      <td>Dairy</td>\n      <td>NaN</td>\n      <td>...</td>\n      <td>NaN</td>\n      <td>27244.605652</td>\n      <td>NaN</td>\n      <td>None</td>\n      <td>Fair Oaks, IN</td>\n      <td>(1, Fair Oaks, Laguna Niguel, Orange County, C...</td>\n      <td>(33.5224537, -117.6842255, 0.0)</td>\n      <td>33.522454</td>\n      <td>-117.684225</td>\n      <td>0.0</td>\n    </tr>\n    <tr>\n      <th>68</th>\n      <td>Herrema Dairy Digester</td>\n      <td>Farm Scale</td>\n      <td>Fair Oaks</td>\n      <td>Jasper</td>\n      <td>IN</td>\n      <td>Mixed Plug Flow</td>\n      <td>Operational</td>\n      <td>2002.0</td>\n      <td>Dairy</td>\n      <td>NaN</td>\n      <td>...</td>\n      <td>NaN</td>\n      <td>10337.186154</td>\n      <td>NaN</td>\n      <td>None</td>\n      <td>Fair Oaks, IN</td>\n      <td>(1, Fair Oaks, Laguna Niguel, Orange County, C...</td>\n      <td>(33.5224537, -117.6842255, 0.0)</td>\n      <td>33.522454</td>\n      <td>-117.684225</td>\n      <td>0.0</td>\n    </tr>\n    <tr>\n      <th>71</th>\n      <td>Prairie's Edge Dairy Site 2 Digester 1</td>\n      <td>Farm Scale</td>\n      <td>Fair Oaks</td>\n      <td>Jasper</td>\n      <td>IN</td>\n      <td>Mixed Plug Flow</td>\n      <td>Operational</td>\n      <td>2008.0</td>\n      <td>Dairy</td>\n      <td>NaN</td>\n      <td>...</td>\n      <td>Jasper County REMC</td>\n      <td>38654.882160</td>\n      <td>NaN</td>\n      <td>None</td>\n      <td>Fair Oaks, IN</td>\n      <td>(1, Fair Oaks, Laguna Niguel, Orange County, C...</td>\n      <td>(33.5224537, -117.6842255, 0.0)</td>\n      <td>33.522454</td>\n      <td>-117.684225</td>\n      <td>0.0</td>\n    </tr>\n    <tr>\n      <th>72</th>\n      <td>Prairie's Edge Dairy Site 2 Digester 2</td>\n      <td>Farm Scale</td>\n      <td>Fair Oaks</td>\n      <td>Jasper</td>\n      <td>IN</td>\n      <td>Mixed Plug Flow</td>\n      <td>Operational</td>\n      <td>2018.0</td>\n      <td>Dairy</td>\n      <td>NaN</td>\n      <td>...</td>\n      <td>NaN</td>\n      <td>11853.306790</td>\n      <td>NaN</td>\n      <td>None</td>\n      <td>Fair Oaks, IN</td>\n      <td>(1, Fair Oaks, Laguna Niguel, Orange County, C...</td>\n      <td>(33.5224537, -117.6842255, 0.0)</td>\n      <td>33.522454</td>\n      <td>-117.684225</td>\n      <td>0.0</td>\n    </tr>\n    <tr>\n      <th>74</th>\n      <td>Windy Ridge Dairy Digester</td>\n      <td>Farm Scale</td>\n      <td>Fair Oaks</td>\n      <td>Jasper</td>\n      <td>IN</td>\n      <td>Mixed Plug Flow</td>\n      <td>Operational</td>\n      <td>2006.0</td>\n      <td>Dairy</td>\n      <td>NaN</td>\n      <td>...</td>\n      <td>NaN</td>\n      <td>52975.622101</td>\n      <td>NaN</td>\n      <td>None</td>\n      <td>Fair Oaks, IN</td>\n      <td>(1, Fair Oaks, Laguna Niguel, Orange County, C...</td>\n      <td>(33.5224537, -117.6842255, 0.0)</td>\n      <td>33.522454</td>\n      <td>-117.684225</td>\n      <td>0.0</td>\n    </tr>\n    <tr>\n      <th>100</th>\n      <td>Roeslein Alternative Energy - Green Hills Farm...</td>\n      <td>Farm Scale</td>\n      <td>Unionville</td>\n      <td>NaN</td>\n      <td>MO</td>\n      <td>Covered Lagoon</td>\n      <td>Construction</td>\n      <td>2019.0</td>\n      <td>Swine</td>\n      <td>NaN</td>\n      <td>...</td>\n      <td>NaN</td>\n      <td>32329.300151</td>\n      <td>NaN</td>\n      <td>None</td>\n      <td>Unionville, MO</td>\n      <td>(Unionville, Putnam County, Missouri, United S...</td>\n      <td>(40.4769606, -93.0032615, 0.0)</td>\n      <td>40.476961</td>\n      <td>-93.003261</td>\n      <td>0.0</td>\n    </tr>\n    <tr>\n      <th>101</th>\n      <td>Roeslein Alternative Energy - Homan Farm Digester</td>\n      <td>Farm Scale</td>\n      <td>King City</td>\n      <td>NaN</td>\n      <td>MO</td>\n      <td>Covered Lagoon</td>\n      <td>Operational</td>\n      <td>2020.0</td>\n      <td>Swine</td>\n      <td>NaN</td>\n      <td>...</td>\n      <td>NaN</td>\n      <td>32537.745081</td>\n      <td>NaN</td>\n      <td>None</td>\n      <td>King City, MO</td>\n      <td>(King City, Gentry County, Missouri, 64463, Un...</td>\n      <td>(40.0513843, -94.524125, 0.0)</td>\n      <td>40.051384</td>\n      <td>-94.524125</td>\n      <td>0.0</td>\n    </tr>\n    <tr>\n      <th>102</th>\n      <td>Roeslein Alternative Energy - Locust Ridge Far...</td>\n      <td>Farm Scale</td>\n      <td>Harris</td>\n      <td>NaN</td>\n      <td>MO</td>\n      <td>Covered Lagoon</td>\n      <td>Operational</td>\n      <td>2017.0</td>\n      <td>Swine</td>\n      <td>NaN</td>\n      <td>...</td>\n      <td>ANR Interstate Pipeline</td>\n      <td>14387.784153</td>\n      <td>NaN</td>\n      <td>None</td>\n      <td>Harris, MO</td>\n      <td>(Harris, Sullivan County, Missouri, 64645, Uni...</td>\n      <td>(40.305847, -93.3502153, 0.0)</td>\n      <td>40.305847</td>\n      <td>-93.350215</td>\n      <td>0.0</td>\n    </tr>\n    <tr>\n      <th>103</th>\n      <td>Roeslein Alternative Energy - Ruckman Farm Dig...</td>\n      <td>Farm Scale</td>\n      <td>Albany</td>\n      <td>Gentry</td>\n      <td>MO</td>\n      <td>Covered Lagoon</td>\n      <td>Operational</td>\n      <td>2016.0</td>\n      <td>Swine</td>\n      <td>NaN</td>\n      <td>...</td>\n      <td>ANR Interstate Pipeline</td>\n      <td>29283.970573</td>\n      <td>NaN</td>\n      <td>None</td>\n      <td>Albany, MO</td>\n      <td>(Albany, Gentry County, Missouri, 64402, Unite...</td>\n      <td>(40.2486069, -94.331068, 0.0)</td>\n      <td>40.248607</td>\n      <td>-94.331068</td>\n      <td>0.0</td>\n    </tr>\n    <tr>\n      <th>104</th>\n      <td>Roeslein Alternative Energy - Somerset Farm Di...</td>\n      <td>Farm Scale</td>\n      <td>Mercer</td>\n      <td>NaN</td>\n      <td>MO</td>\n      <td>Covered Lagoon</td>\n      <td>Construction</td>\n      <td>2020.0</td>\n      <td>Swine</td>\n      <td>NaN</td>\n      <td>...</td>\n      <td>NaN</td>\n      <td>61008.272026</td>\n      <td>NaN</td>\n      <td>None</td>\n      <td>Mercer, MO</td>\n      <td>(Mercer County, Missouri, United States of Ame...</td>\n      <td>(40.4095007, -93.5788706, 0.0)</td>\n      <td>40.409501</td>\n      <td>-93.578871</td>\n      <td>0.0</td>\n    </tr>\n    <tr>\n      <th>105</th>\n      <td>Roeslein Alternative Energy - South Meadows Fa...</td>\n      <td>Farm Scale</td>\n      <td>Browning</td>\n      <td>NaN</td>\n      <td>MO</td>\n      <td>Covered Lagoon</td>\n      <td>Operational</td>\n      <td>2020.0</td>\n      <td>Swine</td>\n      <td>NaN</td>\n      <td>...</td>\n      <td>NaN</td>\n      <td>25115.071984</td>\n      <td>NaN</td>\n      <td>None</td>\n      <td>Browning, MO</td>\n      <td>(Browning, Sullivan County, Missouri, 64630, U...</td>\n      <td>(40.0348625, -93.1599045055649, 0.0)</td>\n      <td>40.034863</td>\n      <td>-93.159905</td>\n      <td>0.0</td>\n    </tr>\n    <tr>\n      <th>106</th>\n      <td>Roeslein Alternative Energy - Valley View Farm...</td>\n      <td>Farm Scale</td>\n      <td>Green City</td>\n      <td>Sullivan</td>\n      <td>MO</td>\n      <td>Covered Lagoon</td>\n      <td>Operational</td>\n      <td>2017.0</td>\n      <td>Swine</td>\n      <td>NaN</td>\n      <td>...</td>\n      <td>ANR Interstate Pipeline</td>\n      <td>21352.895209</td>\n      <td>NaN</td>\n      <td>None</td>\n      <td>Green City, MO</td>\n      <td>(Green City, Sullivan County, Missouri, 63545,...</td>\n      <td>(40.268655, -92.953262, 0.0)</td>\n      <td>40.268655</td>\n      <td>-92.953262</td>\n      <td>0.0</td>\n    </tr>\n    <tr>\n      <th>107</th>\n      <td>Roeslein Alternative Energy - Whitetail Farm D...</td>\n      <td>Farm Scale</td>\n      <td>Unionville</td>\n      <td>NaN</td>\n      <td>MO</td>\n      <td>Covered Lagoon</td>\n      <td>Construction</td>\n      <td>2018.0</td>\n      <td>Swine</td>\n      <td>NaN</td>\n      <td>...</td>\n      <td>NaN</td>\n      <td>80835.960435</td>\n      <td>NaN</td>\n      <td>None</td>\n      <td>Unionville, MO</td>\n      <td>(Unionville, Putnam County, Missouri, United S...</td>\n      <td>(40.4769606, -93.0032615, 0.0)</td>\n      <td>40.476961</td>\n      <td>-93.003261</td>\n      <td>0.0</td>\n    </tr>\n    <tr>\n      <th>117</th>\n      <td>C2e Renewables NC Digester</td>\n      <td>Centralized/Regional</td>\n      <td>Warsaw</td>\n      <td>Duplin</td>\n      <td>NC</td>\n      <td>Unknown or Unspecified</td>\n      <td>Construction</td>\n      <td>2020.0</td>\n      <td>Swine;Poultry</td>\n      <td>NaN</td>\n      <td>...</td>\n      <td>Duke Energy</td>\n      <td>NaN</td>\n      <td>NaN</td>\n      <td>Food</td>\n      <td>Warsaw, NC</td>\n      <td>(Warsaw, Duplin County, North Carolina, 28398,...</td>\n      <td>(34.9993329, -78.091101, 0.0)</td>\n      <td>34.999333</td>\n      <td>-78.091101</td>\n      <td>0.0</td>\n    </tr>\n    <tr>\n      <th>118</th>\n      <td>Catawba Biogas Digester</td>\n      <td>Centralized/Regional</td>\n      <td>Lilesville</td>\n      <td>Anson</td>\n      <td>NC</td>\n      <td>Unknown or Unspecified</td>\n      <td>Construction</td>\n      <td>2019.0</td>\n      <td>Broiler</td>\n      <td>NaN</td>\n      <td>...</td>\n      <td>Piedmont Natural Gas</td>\n      <td>NaN</td>\n      <td>NaN</td>\n      <td>None</td>\n      <td>Lilesville, NC</td>\n      <td>(Lilesville, Anson County, North Carolina, 280...</td>\n      <td>(34.9676535, -79.9845032, 0.0)</td>\n      <td>34.967653</td>\n      <td>-79.984503</td>\n      <td>0.0</td>\n    </tr>\n    <tr>\n      <th>125</th>\n      <td>Union County Green Energy Biogas Park Digester</td>\n      <td>Centralized/Regional</td>\n      <td>Monroe</td>\n      <td>Union</td>\n      <td>NC</td>\n      <td>Unknown or Unspecified</td>\n      <td>Construction</td>\n      <td>2020.0</td>\n      <td>Swine</td>\n      <td>NaN</td>\n      <td>...</td>\n      <td>NaN</td>\n      <td>NaN</td>\n      <td>NaN</td>\n      <td>None</td>\n      <td>Monroe, NC</td>\n      <td>(Monroe, Union County, North Carolina, United ...</td>\n      <td>(34.9854275, -80.5495112, 0.0)</td>\n      <td>34.985428</td>\n      <td>-80.549511</td>\n      <td>0.0</td>\n    </tr>\n    <tr>\n      <th>126</th>\n      <td>Wilson County Green Energy Biogas Park Digester</td>\n      <td>Centralized/Regional</td>\n      <td>Stantonburg</td>\n      <td>Wilson</td>\n      <td>NC</td>\n      <td>Unknown or Unspecified</td>\n      <td>Construction</td>\n      <td>2020.0</td>\n      <td>Swine</td>\n      <td>NaN</td>\n      <td>...</td>\n      <td>NaN</td>\n      <td>NaN</td>\n      <td>NaN</td>\n      <td>None</td>\n      <td>Stantonburg, NC</td>\n      <td>(Stanton Place, MacGregor Park, Cary, Wake Cou...</td>\n      <td>(35.706910199999996, -78.78505440011827, 0.0)</td>\n      <td>35.706910</td>\n      <td>-78.785054</td>\n      <td>0.0</td>\n    </tr>\n    <tr>\n      <th>130</th>\n      <td>Boxler Dairy Digester</td>\n      <td>Farm Scale</td>\n      <td>Varysburg</td>\n      <td>Wyoming</td>\n      <td>NY</td>\n      <td>Mixed Plug Flow</td>\n      <td>Operational</td>\n      <td>2009.0</td>\n      <td>Dairy</td>\n      <td>NaN</td>\n      <td>...</td>\n      <td>Empire interstate gas pipeline</td>\n      <td>6949.968628</td>\n      <td>NaN</td>\n      <td>Agricultural Substrates</td>\n      <td>Varysburg, NY</td>\n      <td>(Varysburg, Wyoming County, New York, 14167, U...</td>\n      <td>(42.7633936, -78.3097382, 0.0)</td>\n      <td>42.763394</td>\n      <td>-78.309738</td>\n      <td>0.0</td>\n    </tr>\n    <tr>\n      <th>171</th>\n      <td>Threemile Canyon Farms Digester</td>\n      <td>Farm Scale</td>\n      <td>Boardman</td>\n      <td>Morrow</td>\n      <td>OR</td>\n      <td>Mixed Plug Flow</td>\n      <td>Operational</td>\n      <td>2012.0</td>\n      <td>Dairy</td>\n      <td>NaN</td>\n      <td>...</td>\n      <td>NaN</td>\n      <td>252685.836145</td>\n      <td>NaN</td>\n      <td>None</td>\n      <td>Boardman, OR</td>\n      <td>(Boardman, Morrow County, Oregon, United State...</td>\n      <td>(45.839855, -119.7005834, 0.0)</td>\n      <td>45.839855</td>\n      <td>-119.700583</td>\n      <td>0.0</td>\n    </tr>\n    <tr>\n      <th>210</th>\n      <td>Smithfield Hog Production/Align RNG - Milford ...</td>\n      <td>Multiple Farm/Facility</td>\n      <td>Milford</td>\n      <td>NaN</td>\n      <td>UT</td>\n      <td>Covered Lagoon</td>\n      <td>Operational</td>\n      <td>2020.0</td>\n      <td>Swine</td>\n      <td>NaN</td>\n      <td>...</td>\n      <td>Dominion Energy</td>\n      <td>NaN</td>\n      <td>NaN</td>\n      <td>None</td>\n      <td>Milford, UT</td>\n      <td>(Milford, Beaver County, Utah, 84751, United S...</td>\n      <td>(38.3969108, -113.0107892, 0.0)</td>\n      <td>38.396911</td>\n      <td>-113.010789</td>\n      <td>0.0</td>\n    </tr>\n    <tr>\n      <th>220</th>\n      <td>Goodrich Family Farm Digester</td>\n      <td>Farm Scale</td>\n      <td>Salisbury</td>\n      <td>Addison</td>\n      <td>VT</td>\n      <td>Complete Mix</td>\n      <td>Construction</td>\n      <td>2020.0</td>\n      <td>Dairy</td>\n      <td>NaN</td>\n      <td>...</td>\n      <td>Vermont Gas</td>\n      <td>2747.256473</td>\n      <td>NaN</td>\n      <td>Food</td>\n      <td>Salisbury, VT</td>\n      <td>(Salisbury, Addison County, Vermont, 05769, Un...</td>\n      <td>(43.896903, -73.100281, 0.0)</td>\n      <td>43.896903</td>\n      <td>-73.100281</td>\n      <td>0.0</td>\n    </tr>\n    <tr>\n      <th>243</th>\n      <td>Clover Hill Dairy, LLC Digester</td>\n      <td>Farm Scale</td>\n      <td>Campbellsport</td>\n      <td>Fond du Lac</td>\n      <td>WI</td>\n      <td>Mixed Plug Flow</td>\n      <td>Operational</td>\n      <td>2007.0</td>\n      <td>Dairy</td>\n      <td>NaN</td>\n      <td>...</td>\n      <td>NaN</td>\n      <td>14661.814735</td>\n      <td>Y</td>\n      <td>None</td>\n      <td>Campbellsport, WI</td>\n      <td>(Campbellsport, Fond du Lac County, Wisconsin,...</td>\n      <td>(43.5984486, -88.2845233, 0.0)</td>\n      <td>43.598449</td>\n      <td>-88.284523</td>\n      <td>0.0</td>\n    </tr>\n    <tr>\n      <th>247</th>\n      <td>Dallmann East River Dairy Digester</td>\n      <td>Farm Scale</td>\n      <td>Brillion</td>\n      <td>Calumet</td>\n      <td>WI</td>\n      <td>Mixed Plug Flow</td>\n      <td>Operational</td>\n      <td>2012.0</td>\n      <td>Dairy</td>\n      <td>NaN</td>\n      <td>...</td>\n      <td>NaN</td>\n      <td>8384.194196</td>\n      <td>Y</td>\n      <td>None</td>\n      <td>Brillion, WI</td>\n      <td>(Brillion, Calumet County, Wisconsin, 54110, U...</td>\n      <td>(44.1772188, -88.064263, 0.0)</td>\n      <td>44.177219</td>\n      <td>-88.064263</td>\n      <td>0.0</td>\n    </tr>\n    <tr>\n      <th>249</th>\n      <td>Dane County Digester - Vienna Digester</td>\n      <td>Centralized/Regional</td>\n      <td>Vienna</td>\n      <td>Dane</td>\n      <td>WI</td>\n      <td>Complete Mix</td>\n      <td>Operational</td>\n      <td>2011.0</td>\n      <td>Dairy</td>\n      <td>NaN</td>\n      <td>...</td>\n      <td>ANR Pipeline Company</td>\n      <td>20945.449621</td>\n      <td>NaN</td>\n      <td>Food</td>\n      <td>Vienna, WI</td>\n      <td>(Town of Vienna, Dane County, Wisconsin, Unite...</td>\n      <td>(43.2513875, -89.4207709, 0.0)</td>\n      <td>43.251387</td>\n      <td>-89.420771</td>\n      <td>0.0</td>\n    </tr>\n    <tr>\n      <th>255</th>\n      <td>Grotegut Dairy Farm, Inc. Digester</td>\n      <td>Farm Scale</td>\n      <td>Newton</td>\n      <td>Mantiowoc</td>\n      <td>WI</td>\n      <td>Mixed Plug Flow</td>\n      <td>Operational</td>\n      <td>2009.0</td>\n      <td>Dairy</td>\n      <td>NaN</td>\n      <td>...</td>\n      <td>NaN</td>\n      <td>13236.043131</td>\n      <td>Y</td>\n      <td>None</td>\n      <td>Newton, WI</td>\n      <td>(Newton, Manitowoc County, Wisconsin, United S...</td>\n      <td>(43.993883, -87.7264746, 0.0)</td>\n      <td>43.993883</td>\n      <td>-87.726475</td>\n      <td>0.0</td>\n    </tr>\n    <tr>\n      <th>259</th>\n      <td>Kinnard Farms Digester</td>\n      <td>Farm Scale</td>\n      <td>Casco</td>\n      <td>Kewaunee</td>\n      <td>WI</td>\n      <td>Complete Mix</td>\n      <td>Construction</td>\n      <td>2020.0</td>\n      <td>Dairy</td>\n      <td>NaN</td>\n      <td>...</td>\n      <td>NaN</td>\n      <td>27947.313987</td>\n      <td>NaN</td>\n      <td>None</td>\n      <td>Casco, WI</td>\n      <td>(Casco, Kewaunee County, Wisconsin, United Sta...</td>\n      <td>(44.5577747, -87.6181461, 0.0)</td>\n      <td>44.557775</td>\n      <td>-87.618146</td>\n      <td>0.0</td>\n    </tr>\n    <tr>\n      <th>261</th>\n      <td>Maple Leaf Dairy East Digester</td>\n      <td>Farm Scale</td>\n      <td>Cleveland</td>\n      <td>Manitowoc</td>\n      <td>WI</td>\n      <td>Mixed Plug Flow</td>\n      <td>Operational</td>\n      <td>2010.0</td>\n      <td>Dairy</td>\n      <td>NaN</td>\n      <td>...</td>\n      <td>NaN</td>\n      <td>20413.784521</td>\n      <td>Y</td>\n      <td>None</td>\n      <td>Cleveland, WI</td>\n      <td>(Cleveland, Manitowoc County, Wisconsin, Unite...</td>\n      <td>(43.9149942, -87.7473085, 0.0)</td>\n      <td>43.914994</td>\n      <td>-87.747309</td>\n      <td>0.0</td>\n    </tr>\n    <tr>\n      <th>264</th>\n      <td>New Chester Dairy Digester</td>\n      <td>Farm Scale</td>\n      <td>Grand Marsh</td>\n      <td>Adams</td>\n      <td>WI</td>\n      <td>Unknown or Unspecified</td>\n      <td>Construction</td>\n      <td>2020.0</td>\n      <td>Dairy</td>\n      <td>NaN</td>\n      <td>...</td>\n      <td>NaN</td>\n      <td>31790.069660</td>\n      <td>NaN</td>\n      <td>None</td>\n      <td>Grand Marsh, WI</td>\n      <td>(Grand Marsh, Town of New Chester, Adams Count...</td>\n      <td>(43.8869183, -89.7062359, 0.0)</td>\n      <td>43.886918</td>\n      <td>-89.706236</td>\n      <td>0.0</td>\n    </tr>\n    <tr>\n      <th>267</th>\n      <td>Pagels Ponderosa Dairy Digester 2</td>\n      <td>Farm Scale</td>\n      <td>Kewaunee</td>\n      <td>Kewaunee</td>\n      <td>WI</td>\n      <td>Unknown or Unspecified</td>\n      <td>Operational</td>\n      <td>2019.0</td>\n      <td>Dairy</td>\n      <td>NaN</td>\n      <td>...</td>\n      <td>NaN</td>\n      <td>NaN</td>\n      <td>NaN</td>\n      <td>None</td>\n      <td>Kewaunee, WI</td>\n      <td>(Kewaunee County, Wisconsin, United States of ...</td>\n      <td>(44.521282, -87.6301086, 0.0)</td>\n      <td>44.521282</td>\n      <td>-87.630109</td>\n      <td>0.0</td>\n    </tr>\n    <tr>\n      <th>269</th>\n      <td>S &amp; S Jerseyland Dairy Digester</td>\n      <td>Farm Scale</td>\n      <td>Sturgeon Bay</td>\n      <td>Door</td>\n      <td>WI</td>\n      <td>Mixed Plug Flow</td>\n      <td>Operational</td>\n      <td>2012.0</td>\n      <td>Dairy</td>\n      <td>NaN</td>\n      <td>...</td>\n      <td>NaN</td>\n      <td>12857.326784</td>\n      <td>NaN</td>\n      <td>None</td>\n      <td>Sturgeon Bay, WI</td>\n      <td>(Sturgeon Bay, Door County, Wisconsin, 54235, ...</td>\n      <td>(44.8341639, -87.377042, 0.0)</td>\n      <td>44.834164</td>\n      <td>-87.377042</td>\n      <td>0.0</td>\n    </tr>\n    <tr>\n      <th>272</th>\n      <td>Statz Brothers, Inc. Digester: RNG</td>\n      <td>Multiple Farm/Facility</td>\n      <td>Sun Prairie</td>\n      <td>Dane</td>\n      <td>WI</td>\n      <td>Mixed Plug Flow</td>\n      <td>Construction</td>\n      <td>2020.0</td>\n      <td>Dairy</td>\n      <td>NaN</td>\n      <td>...</td>\n      <td>NaN</td>\n      <td>8149.556191</td>\n      <td>NaN</td>\n      <td>None</td>\n      <td>Sun Prairie, WI</td>\n      <td>(Sun Prairie, Dane County, Wisconsin, United S...</td>\n      <td>(43.1834579, -89.2134359, 0.0)</td>\n      <td>43.183458</td>\n      <td>-89.213436</td>\n      <td>0.0</td>\n    </tr>\n  </tbody>\n</table>\n<p>49 rows × 28 columns</p>\n</div>"
     },
     "metadata": {},
     "execution_count": 39
    }
   ],
   "source": [
    "dfAgriculture[dfAgriculture['Biogas End Use(s)']=='Sales']"
   ]
  },
  {
   "cell_type": "code",
   "execution_count": null,
   "metadata": {},
   "outputs": [],
   "source": []
  }
 ],
 "metadata": {
  "kernelspec": {
   "display_name": "Python 3",
   "language": "python",
   "name": "python3"
  },
  "language_info": {
   "codemirror_mode": {
    "name": "ipython",
    "version": 3
   },
   "file_extension": ".py",
   "mimetype": "text/x-python",
   "name": "python",
   "nbconvert_exporter": "python",
   "pygments_lexer": "ipython3",
   "version": "3.8.3-final"
  }
 },
 "nbformat": 4,
 "nbformat_minor": 4
}