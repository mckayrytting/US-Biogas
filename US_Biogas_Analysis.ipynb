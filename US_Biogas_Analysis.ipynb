{
 "cells": [
  {
   "cell_type": "code",
   "execution_count": 1,
   "metadata": {},
   "outputs": [],
   "source": [
    "#     US_Biogas_Analysis.ipynb\n",
    "#     McKay Rytting\n",
    "#     This notebook is an initial exploration of US Biogas data compiled by USDA"
   ]
  },
  {
   "cell_type": "code",
   "execution_count": 2,
   "metadata": {},
   "outputs": [
    {
     "output_type": "stream",
     "name": "stdout",
     "text": [
      "Collecting Nominatim\n",
      "  Downloading nominatim-0.1.tar.gz (1.7 kB)\n",
      "Building wheels for collected packages: Nominatim\n",
      "  Building wheel for Nominatim (setup.py) ... \u001b[?25ldone\n",
      "\u001b[?25h  Created wheel for Nominatim: filename=nominatim-0.1-py3-none-any.whl size=2363 sha256=001a1f10cd79b3bfdfbbf54daa0f19dd5c4ad913bd488574fef3288fe942a3ee\n",
      "  Stored in directory: /Users/mckayrytting/Library/Caches/pip/wheels/61/a8/8d/06a142598c8ff2d5ac76ee5c2935f22dcf67d05e208722c4c0\n",
      "Successfully built Nominatim\n",
      "Installing collected packages: Nominatim\n",
      "Successfully installed Nominatim-0.1\n",
      "Note: you may need to restart the kernel to use updated packages.\n"
     ]
    }
   ],
   "source": [
    "#   Using geopy and Nominatim for geolocating\n",
    "#   pip install geopy\n",
    "#   pip install Nominatim"
   ]
  },
  {
   "cell_type": "code",
   "execution_count": 1,
   "metadata": {},
   "outputs": [],
   "source": [
    "import pandas as pd\n",
    "import numpy as np\n",
    "from geopy.geocoders import Nominatim\n",
    "from geopy.extra.rate_limiter import RateLimiter"
   ]
  },
  {
   "cell_type": "code",
   "execution_count": 2,
   "metadata": {},
   "outputs": [
    {
     "output_type": "execute_result",
     "data": {
      "text/plain": [
       "dict_keys(['Readme', 'Agriculture BioGas System', 'Landfill BioGas System', 'Wastewater BioGas System', 'Food Scrap BioGas System', 'Compressed NG Fueling Stations', 'Electric Fueling Stations', 'NG Pipelines Gathering', 'NG Pipelines Interstate', 'NG Pipelines Intrastate', '2013 Electricity Prices', '2014 Gas Prices', 'State Incentives Total Count', 'Net Metering Rules', 'Net Metering Caps', 'Livestock Dairy Inventory', 'Livestock Poultry Inventory', 'Livestock Swine Inventory', 'Crop Residue Bagasse ', 'Crop Residue Barley Straw', 'Crop Residue Cornstover', 'Crop Residue Sorghum', 'Crop Residue Rice', 'Crop Residue Wheatstraw', 'Energy Crops Cane', 'Energy Crops Miscanthus', 'Energy Crops Switchgrass', 'NRCS EQIP Practice Standards'])"
      ]
     },
     "metadata": {},
     "execution_count": 2
    }
   ],
   "source": [
    "# Read the data file in and list all of its tabs:\n",
    "allBiogasData = pd.read_excel('BioGas_Download.xlsx', sheet_name=None)\n",
    "allBiogasData.keys()"
   ]
  },
  {
   "cell_type": "code",
   "execution_count": 3,
   "metadata": {},
   "outputs": [],
   "source": [
    "# Create individual dataframes for tabs of interest\n",
    "dfAgriculture=allBiogasData['Agriculture BioGas System']\n",
    "dfLandfill=allBiogasData['Landfill BioGas System']\n",
    "dfIncentives=allBiogasData['State Incentives Total Count']\n",
    "dfDairyInventory=allBiogasData['Livestock Dairy Inventory']\n",
    "dfSwineInventory=allBiogasData['Livestock Swine Inventory']\n",
    "dfPoultryInventory=allBiogasData['Livestock Poultry Inventory']"
   ]
  },
  {
   "cell_type": "code",
   "execution_count": 4,
   "metadata": {},
   "outputs": [],
   "source": [
    "# Clean up livestock inventory dataframes, combine into single dataframe of livestock counts in US counties\n",
    "dfLivestockInventory=pd.merge(dfDairyInventory,dfSwineInventory, how='outer',\n",
    "                              left_on=['County','State'], right_on=['NAME','STATE NAME'])\n",
    "dfLivestockInventory=pd.merge(dfLivestockInventory,dfPoultryInventory, how='outer',\n",
    "                              left_on=['NAME','STATE NAME'], right_on=['NAME','STATE NAME'])\n",
    "dfLivestockInventory.drop(columns=['NAME','STATE NAME'],inplace=True)\n",
    "dfLivestockInventory.rename(columns={'Milk Cow Inventory':'Cow Inventory',\n",
    "                                     'Inventory Total Higs and Pigs':'Swine Inventory'},\n",
    "                           inplace=True)\n",
    "dfLivestockInventory=dfLivestockInventory.fillna(0)"
   ]
  },
  {
   "cell_type": "code",
   "execution_count": 5,
   "metadata": {},
   "outputs": [
    {
     "output_type": "execute_result",
     "data": {
      "text/plain": [
       "array(['None', 'Waste water (from cheese plant)',\n",
       "       'Wastewater (warm clean up water from cheese plant)',\n",
       "       'Cheese whey, sudan grass, and residuals (30 tons/day sudan silage, 20 tons/day whey)',\n",
       "       'Sludge (Paper sludge substrate)', 'Additional substrates',\n",
       "       'Organic Wastes',\n",
       "       'Crop wastes, food wastes, haylage, and cooking grease',\n",
       "       'Wastes from surrounding community', 'Food waste',\n",
       "       'Crude glycerine (from biodiesel plant)',\n",
       "       'Food Processing Waste (Syrup stillage from ethanol plant; Crude glycerine from biodiesel plant)',\n",
       "       'Cheese whey', 'Organic wastes (silage leachate and food waste)',\n",
       "       'Slaughterhouse wastewater',\n",
       "       'Food processing waste (cheese whey, waste onions, and potato starch water)',\n",
       "       'Food processing waste (food waste from grapes; milk/ice cream and salad dressing production)',\n",
       "       'Food waste/organic waste',\n",
       "       'Organic food waste and agricultural residue',\n",
       "       'Food wastes (Milk processing waste sludge, powdered milk processing waste, wasted milk, tomatoe paste)',\n",
       "       'Mixed biomass (biosolids, regional food waste, fats, oils, grease)',\n",
       "       'Mixed biomass (sewage, crop waste, grease)',\n",
       "       'Food wastes, grass, crop waste', 'Mixed biomass',\n",
       "       'Paper mill waste', 'Substrates',\n",
       "       'Food waste (90-95% wet corn paste resulting during formation of pelletized dog food)',\n",
       "       'Food waste (waste from local cheese factory)',\n",
       "       'Dry chicken manure, food waste', 'Food wastes', 'Whey',\n",
       "       'Off-farm waste (dissolved air flotation solids from nearby poultry plant)',\n",
       "       'Food wastes (molasses processor wash water, Jello powder from nearby Kraft Foods)',\n",
       "       'Commercial food waste (nonedible produce and bakery waste)',\n",
       "       'Dairy processing residues (dairy whey, other processing residues)',\n",
       "       'Food Wastes', 'Grease and other restaurant waste',\n",
       "       'Whey (two loads per week)',\n",
       "       'Agricultural substrates (fish processing waste, waste grain, food waste, waste dairy products, waste crops, or crops grown specifically for digester)',\n",
       "       \"Food waste (ice cream substrate from Nearby Ben & Jerry's Plant)\",\n",
       "       'Waste food products (waste grain, waste dairy products, waste crops, crops grown specifically for use in digester)',\n",
       "       'Agricultural substrates (waste grain, food waste, whey, crops, manure from neighboring farms)',\n",
       "       'Food waste (spoiled fruit, cheese whey, remnants from chicken processing)',\n",
       "       'Grease trap waste',\n",
       "       'Food Wastes (potential 30 tons/month sorted digestable food waste; Whey from nearby cheeseplant and below market standard eggs)',\n",
       "       'Egg breakage, fish solids, food breading, sauce, other feedstocks. (18.4 % substrates, mainly from fish processing plant)',\n",
       "       'Unspecified (food waste)', 'On-farm waste corn silage',\n",
       "       'Cheese plant waste (whey and other cheese production waste)',\n",
       "       'Substrate (high-fat food wastes such as greases and oils)',\n",
       "       'Wastewater', 'Milking parlor wash water',\n",
       "       'Food waste (non-farm food processing waste from 3 industries)',\n",
       "       'Food industry waste',\n",
       "       'Off-farm food waste (whey, slaughterhouse, foodwaste station, mostly grease)',\n",
       "       \"Organic wastes (bunker waste, moldy feed, whatever isn't eaten by cows)\",\n",
       "       'cobs, commercial organics', 'ag residues, commercial organics'],\n",
       "      dtype=object)"
      ]
     },
     "metadata": {},
     "execution_count": 5
    }
   ],
   "source": [
    "# Want to clean up the CoDigestion column in the agriculture dataframe. First need a list of unique values to turn into categories.\n",
    "dfAgriculture['CoDigestion']=dfAgriculture['CoDigestion'].fillna('None')\n",
    "dfAgriculture['CoDigestion'].unique()"
   ]
  },
  {
   "cell_type": "code",
   "execution_count": 6,
   "metadata": {},
   "outputs": [],
   "source": [
    "# Make masks for various types of CoDigestion\n",
    "dfAgriculture['Codigestion']=dfAgriculture['CoDigestion']\n",
    "foodMask=dfAgriculture['CoDigestion'].str.contains('food|Food')\n",
    "waterMask=dfAgriculture['CoDigestion'].str.contains('water|Water')\n",
    "agMask=dfAgriculture['CoDigestion'].str.contains('agri|Agri')\n",
    "mixMask=dfAgriculture['CoDigestion'].str.contains('mix|Mix')\n",
    "allMask=dfAgriculture['CoDigestion']=='None'\n",
    "multMask=(foodMask^waterMask==agMask)"
   ]
  },
  {
   "cell_type": "code",
   "execution_count": 7,
   "metadata": {},
   "outputs": [],
   "source": [
    "# Apply masks to dataframe\n",
    "dfAgriculture['Codigestion'][allMask]='None'\n",
    "dfAgriculture['Codigestion'][~allMask]='Other'\n",
    "dfAgriculture['Codigestion'][multMask^~foodMask]='Mult'\n",
    "dfAgriculture['Codigestion'][agMask & ~multMask]='Agricultural Substrates'\n",
    "dfAgriculture['Codigestion'][waterMask & ~multMask]='Wastewater'\n",
    "dfAgriculture['Codigestion'][foodMask & ~multMask]='Food'\n",
    "dfAgriculture['Codigestion'][mixMask]='Mix'"
   ]
  },
  {
   "cell_type": "code",
   "execution_count": 8,
   "metadata": {},
   "outputs": [
    {
     "output_type": "execute_result",
     "data": {
      "text/plain": [
       "                                           CoDigestion Codigestion\n",
       "78   Food processing waste (cheese whey, waste onio...        Mult\n",
       "87         Organic food waste and agricultural residue        Mult\n",
       "123  Food wastes (molasses processor wash water, Je...        Mult\n",
       "141  Agricultural substrates (fish processing waste...        Mult\n",
       "151  Agricultural substrates (waste grain, food was...        Mult"
      ],
      "text/html": "<div>\n<style scoped>\n    .dataframe tbody tr th:only-of-type {\n        vertical-align: middle;\n    }\n\n    .dataframe tbody tr th {\n        vertical-align: top;\n    }\n\n    .dataframe thead th {\n        text-align: right;\n    }\n</style>\n<table border=\"1\" class=\"dataframe\">\n  <thead>\n    <tr style=\"text-align: right;\">\n      <th></th>\n      <th>CoDigestion</th>\n      <th>Codigestion</th>\n    </tr>\n  </thead>\n  <tbody>\n    <tr>\n      <th>78</th>\n      <td>Food processing waste (cheese whey, waste onio...</td>\n      <td>Mult</td>\n    </tr>\n    <tr>\n      <th>87</th>\n      <td>Organic food waste and agricultural residue</td>\n      <td>Mult</td>\n    </tr>\n    <tr>\n      <th>123</th>\n      <td>Food wastes (molasses processor wash water, Je...</td>\n      <td>Mult</td>\n    </tr>\n    <tr>\n      <th>141</th>\n      <td>Agricultural substrates (fish processing waste...</td>\n      <td>Mult</td>\n    </tr>\n    <tr>\n      <th>151</th>\n      <td>Agricultural substrates (waste grain, food was...</td>\n      <td>Mult</td>\n    </tr>\n  </tbody>\n</table>\n</div>"
     },
     "metadata": {},
     "execution_count": 8
    }
   ],
   "source": [
    "# Check to make sure things look categorized correctly!\n",
    "dfAgriculture[dfAgriculture['Codigestion']=='Mult'][['CoDigestion','Codigestion']]"
   ]
  },
  {
   "cell_type": "code",
   "execution_count": 9,
   "metadata": {},
   "outputs": [
    {
     "output_type": "execute_result",
     "data": {
      "text/plain": [
       "                         Name                           Full Address  \\\n",
       "0  Cargill - Sandy River Farm            Morrilton, AR United States   \n",
       "1         Bob Giacomini Dairy  Point Reyes Station, CA United States   \n",
       "2              Bullfrog Dairy             Imperial, CA United States   \n",
       "3            CAL-Denier Dairy                 Galt, CA United States   \n",
       "4    Castelanelli Bros. Dairy                 Lodi, CA United States   \n",
       "\n",
       "                   City State  Year Opened  Year Closed  Start Date  Owner  \\\n",
       "0            Morrilton    AR          2008          NaN         NaN    NaN   \n",
       "1  Point Reyes Station    CA          2009          NaN         NaN    NaN   \n",
       "2             Imperial    CA          2008          NaN         NaN    NaN   \n",
       "3                 Galt    CA          2008          NaN         NaN    NaN   \n",
       "4                 Lodi    CA          2004          NaN         NaN    NaN   \n",
       "\n",
       "                                           Developer  \\\n",
       "0                                                NaN   \n",
       "1                    Williams Engineering Associates   \n",
       "2                             RCM International, LLC   \n",
       "3                             RCM International, LLC   \n",
       "4  RCM International, LLC; Cover installed by Env...   \n",
       "\n",
       "   Emission Reductions MMTCO2E/Year  Digester Typer Farm Type  \\\n",
       "0                       2847.284662  Covered Lagoon     Swine   \n",
       "1                       1592.636260  Covered Lagoon     Dairy   \n",
       "2                      17518.998860  Covered Lagoon     Dairy   \n",
       "3                       3983.482409  Covered Lagoon     Dairy   \n",
       "4                      12582.925030  Covered Lagoon     Dairy   \n",
       "\n",
       "  Population Feeding Digester                      CoDigestion  \\\n",
       "0                       4,200                             None   \n",
       "1                         300  Waste water (from cheese plant)   \n",
       "2                       3,300                             None   \n",
       "3                         900                             None   \n",
       "4                       3,213                             None   \n",
       "\n",
       "  Biogas Generation Estimate (Cubic Feet a Day)    Biogas End Use  \\\n",
       "0                                           NaN  Flared Full Time   \n",
       "1                                        25,000      Cogeneration   \n",
       "2                                           NaN       Electricity   \n",
       "3                                        33,000       Electricity   \n",
       "4                                        89,148       Electricity   \n",
       "\n",
       "  Boiler Capacity (BTU an hour) Baseline System Codigestion  \n",
       "0                           NaN  Storage Lagoon        None  \n",
       "1                           NaN  Storage Lagoon  Wastewater  \n",
       "2                           NaN  Storage Lagoon        None  \n",
       "3                           NaN  Storage Lagoon        None  \n",
       "4                           NaN  Storage Lagoon        None  "
      ],
      "text/html": "<div>\n<style scoped>\n    .dataframe tbody tr th:only-of-type {\n        vertical-align: middle;\n    }\n\n    .dataframe tbody tr th {\n        vertical-align: top;\n    }\n\n    .dataframe thead th {\n        text-align: right;\n    }\n</style>\n<table border=\"1\" class=\"dataframe\">\n  <thead>\n    <tr style=\"text-align: right;\">\n      <th></th>\n      <th>Name</th>\n      <th>Full Address</th>\n      <th>City</th>\n      <th>State</th>\n      <th>Year Opened</th>\n      <th>Year Closed</th>\n      <th>Start Date</th>\n      <th>Owner</th>\n      <th>Developer</th>\n      <th>Emission Reductions MMTCO2E/Year</th>\n      <th>Digester Typer</th>\n      <th>Farm Type</th>\n      <th>Population Feeding Digester</th>\n      <th>CoDigestion</th>\n      <th>Biogas Generation Estimate (Cubic Feet a Day)</th>\n      <th>Biogas End Use</th>\n      <th>Boiler Capacity (BTU an hour)</th>\n      <th>Baseline System</th>\n      <th>Codigestion</th>\n    </tr>\n  </thead>\n  <tbody>\n    <tr>\n      <th>0</th>\n      <td>Cargill - Sandy River Farm</td>\n      <td>Morrilton, AR United States</td>\n      <td>Morrilton</td>\n      <td>AR</td>\n      <td>2008</td>\n      <td>NaN</td>\n      <td>NaN</td>\n      <td>NaN</td>\n      <td>NaN</td>\n      <td>2847.284662</td>\n      <td>Covered Lagoon</td>\n      <td>Swine</td>\n      <td>4,200</td>\n      <td>None</td>\n      <td>NaN</td>\n      <td>Flared Full Time</td>\n      <td>NaN</td>\n      <td>Storage Lagoon</td>\n      <td>None</td>\n    </tr>\n    <tr>\n      <th>1</th>\n      <td>Bob Giacomini Dairy</td>\n      <td>Point Reyes Station, CA United States</td>\n      <td>Point Reyes Station</td>\n      <td>CA</td>\n      <td>2009</td>\n      <td>NaN</td>\n      <td>NaN</td>\n      <td>NaN</td>\n      <td>Williams Engineering Associates</td>\n      <td>1592.636260</td>\n      <td>Covered Lagoon</td>\n      <td>Dairy</td>\n      <td>300</td>\n      <td>Waste water (from cheese plant)</td>\n      <td>25,000</td>\n      <td>Cogeneration</td>\n      <td>NaN</td>\n      <td>Storage Lagoon</td>\n      <td>Wastewater</td>\n    </tr>\n    <tr>\n      <th>2</th>\n      <td>Bullfrog Dairy</td>\n      <td>Imperial, CA United States</td>\n      <td>Imperial</td>\n      <td>CA</td>\n      <td>2008</td>\n      <td>NaN</td>\n      <td>NaN</td>\n      <td>NaN</td>\n      <td>RCM International, LLC</td>\n      <td>17518.998860</td>\n      <td>Covered Lagoon</td>\n      <td>Dairy</td>\n      <td>3,300</td>\n      <td>None</td>\n      <td>NaN</td>\n      <td>Electricity</td>\n      <td>NaN</td>\n      <td>Storage Lagoon</td>\n      <td>None</td>\n    </tr>\n    <tr>\n      <th>3</th>\n      <td>CAL-Denier Dairy</td>\n      <td>Galt, CA United States</td>\n      <td>Galt</td>\n      <td>CA</td>\n      <td>2008</td>\n      <td>NaN</td>\n      <td>NaN</td>\n      <td>NaN</td>\n      <td>RCM International, LLC</td>\n      <td>3983.482409</td>\n      <td>Covered Lagoon</td>\n      <td>Dairy</td>\n      <td>900</td>\n      <td>None</td>\n      <td>33,000</td>\n      <td>Electricity</td>\n      <td>NaN</td>\n      <td>Storage Lagoon</td>\n      <td>None</td>\n    </tr>\n    <tr>\n      <th>4</th>\n      <td>Castelanelli Bros. Dairy</td>\n      <td>Lodi, CA United States</td>\n      <td>Lodi</td>\n      <td>CA</td>\n      <td>2004</td>\n      <td>NaN</td>\n      <td>NaN</td>\n      <td>NaN</td>\n      <td>RCM International, LLC; Cover installed by Env...</td>\n      <td>12582.925030</td>\n      <td>Covered Lagoon</td>\n      <td>Dairy</td>\n      <td>3,213</td>\n      <td>None</td>\n      <td>89,148</td>\n      <td>Electricity</td>\n      <td>NaN</td>\n      <td>Storage Lagoon</td>\n      <td>None</td>\n    </tr>\n  </tbody>\n</table>\n</div>"
     },
     "metadata": {},
     "execution_count": 9
    }
   ],
   "source": [
    "# Rename Codigestion columns to make a bit more sense\n",
    "dfAgriculture.rename(columns={'CoDigestion':'CoDigestion Details'})\n",
    "dfAgriculture.head()"
   ]
  },
  {
   "cell_type": "code",
   "execution_count": 10,
   "metadata": {},
   "outputs": [
    {
     "output_type": "execute_result",
     "data": {
      "text/plain": [
       "array(['Flared Full Time', 'Cogeneration', 'Electricity',\n",
       "       'Cogeneration; Boiler/Furnace Fuel', 'Electricity; CNG', nan,\n",
       "       'Boiler/Furnace Fuel', 'Electricity; Boiler/Furnace Fuel',\n",
       "       'Cogeneration; CNG', 'Cogeneration; Electricity',\n",
       "       'Boiler/Furnace Fuel; Electricity', 'Pipeline Gas', 'electricity'],\n",
       "      dtype=object)"
      ]
     },
     "metadata": {},
     "execution_count": 10
    }
   ],
   "source": [
    "# What are the potential end uses?\n",
    "dfAgriculture['Biogas End Use'].unique()"
   ]
  },
  {
   "cell_type": "code",
   "execution_count": 14,
   "metadata": {},
   "outputs": [],
   "source": [
    "# Want only one entry in end use column (Flared, Heat, Electricity, Cogeneration, Sales), consider making second end use column?\n",
    "flaredMask=dfAgriculture['Biogas End Use'].str.contains('Flare')\n",
    "electricityMask=dfAgriculture['Biogas End Use'].str.contains('elec|Elec')\n",
    "cogenerationMask=dfAgriculture['Biogas End Use'].str.contains('Cogen')\n",
    "cngMask=dfAgriculture['Biogas End Use'].str.contains('CNG')\n",
    "furnaceMask=dfAgriculture['Biogas End Use'].str.contains('Furn')\n",
    "pipelineMask=dfAgriculture['Biogas End Use'].str.contains('Gas')\n",
    "dfAgriculture['Biogas End Use']=dfAgriculture['Biogas End Use'].fillna('Unknown')"
   ]
  },
  {
   "cell_type": "code",
   "execution_count": 15,
   "metadata": {},
   "outputs": [
    {
     "output_type": "execute_result",
     "data": {
      "text/plain": [
       "array(['Flared', 'Cogeneration', 'Electricity', 'Heat', 'Unknown',\n",
       "       'Sales'], dtype=object)"
      ]
     },
     "metadata": {},
     "execution_count": 15
    }
   ],
   "source": [
    "# Apply End Use masks to dataframe\n",
    "dfAgriculture['Biogas End Use'][flaredMask]='Flared'\n",
    "dfAgriculture['Biogas End Use'][electricityMask]='Electricity'\n",
    "dfAgriculture['Biogas End Use'][cogenerationMask]='Cogeneration'\n",
    "dfAgriculture['Biogas End Use'][cngMask]='Sales'\n",
    "dfAgriculture['Biogas End Use'][furnaceMask]='Heat'\n",
    "dfAgriculture['Biogas End Use'][pipelineMask]='Sales'\n",
    "dfAgriculture['Biogas End Use'][electricityMask & furnaceMask]='Cogeneration'\n",
    "dfAgriculture['Biogas End Use'][electricityMask]='Electricity'\n",
    "dfAgriculture['Biogas End Use'].unique()\n"
   ]
  },
  {
   "cell_type": "code",
   "execution_count": 17,
   "metadata": {},
   "outputs": [],
   "source": [
    "#   Concatenate City and State to get single city/state column for geocoding\n",
    "dfAgriculture['City/State']=dfAgriculture['City']+dfAgriculture['State']"
   ]
  },
  {
   "cell_type": "code",
   "execution_count": 22,
   "metadata": {},
   "outputs": [],
   "source": [
    "geolocator=Nominatim(user_agent='McKay')\n",
    "latLon=RateLimiter(geolocator.geocode, min_delay_seconds=1)\n",
    "dfAgriculture['Location']=dfAgriculture['City/State'].apply(latLon)\n",
    "dfAgriculture['Point']=dfAgriculture['Location'].apply(lambda loc: tuple(loc.point) if loc else None)\n",
    "dfAgriculture[['Latitude','Longitude','Altitude']]=pd.DataFrame(dfAgriculture['Point'].tolist(), index=dfAgriculture.index)"
   ]
  },
  {
   "cell_type": "code",
   "execution_count": 23,
   "metadata": {},
   "outputs": [
    {
     "output_type": "execute_result",
     "data": {
      "text/plain": [
       "                         Name                           Full Address  \\\n",
       "0  Cargill - Sandy River Farm            Morrilton, AR United States   \n",
       "1         Bob Giacomini Dairy  Point Reyes Station, CA United States   \n",
       "2              Bullfrog Dairy             Imperial, CA United States   \n",
       "3            CAL-Denier Dairy                 Galt, CA United States   \n",
       "4    Castelanelli Bros. Dairy                 Lodi, CA United States   \n",
       "\n",
       "                   City State  Year Opened  Year Closed  Start Date  Owner  \\\n",
       "0            Morrilton    AR          2008          NaN         NaN    NaN   \n",
       "1  Point Reyes Station    CA          2009          NaN         NaN    NaN   \n",
       "2             Imperial    CA          2008          NaN         NaN    NaN   \n",
       "3                 Galt    CA          2008          NaN         NaN    NaN   \n",
       "4                 Lodi    CA          2004          NaN         NaN    NaN   \n",
       "\n",
       "                                           Developer  \\\n",
       "0                                                NaN   \n",
       "1                    Williams Engineering Associates   \n",
       "2                             RCM International, LLC   \n",
       "3                             RCM International, LLC   \n",
       "4  RCM International, LLC; Cover installed by Env...   \n",
       "\n",
       "   Emission Reductions MMTCO2E/Year  ... Biogas End Use  \\\n",
       "0                       2847.284662  ...         Flared   \n",
       "1                       1592.636260  ...   Cogeneration   \n",
       "2                      17518.998860  ...    Electricity   \n",
       "3                       3983.482409  ...    Electricity   \n",
       "4                      12582.925030  ...    Electricity   \n",
       "\n",
       "  Boiler Capacity (BTU an hour) Baseline System Codigestion  \\\n",
       "0                           NaN  Storage Lagoon        None   \n",
       "1                           NaN  Storage Lagoon  Wastewater   \n",
       "2                           NaN  Storage Lagoon        None   \n",
       "3                           NaN  Storage Lagoon        None   \n",
       "4                           NaN  Storage Lagoon        None   \n",
       "\n",
       "                City/State                                           Location  \\\n",
       "0            Morrilton AR   (Morrilton, Conway County, Arkansas, 72110, Un...   \n",
       "1  Point Reyes Station CA   (Point Reyes Station, Marin County, California...   \n",
       "2             Imperial CA   (Imperial, Saskatchewan, S0G 2J0, Canada, (51....   \n",
       "3                 Galt CA   (Galt, City of Cambridge, Region of Waterloo, ...   \n",
       "4                 Lodi CA   (Lodi, North Stormont, Stormont, Dundas and Gl...   \n",
       "\n",
       "                             Point   Latitude   Longitude Altitude  \n",
       "0   (35.1509173, -92.7440538, 0.0)  35.150917  -92.744054      0.0  \n",
       "1  (38.0690895, -122.8069356, 0.0)  38.069089 -122.806936      0.0  \n",
       "2   (51.346117, -105.4355653, 0.0)  51.346117 -105.435565      0.0  \n",
       "3   (43.3589869, -80.3152471, 0.0)  43.358987  -80.315247      0.0  \n",
       "4   (45.2232055, -75.0073385, 0.0)  45.223205  -75.007339      0.0  \n",
       "\n",
       "[5 rows x 25 columns]"
      ],
      "text/html": "<div>\n<style scoped>\n    .dataframe tbody tr th:only-of-type {\n        vertical-align: middle;\n    }\n\n    .dataframe tbody tr th {\n        vertical-align: top;\n    }\n\n    .dataframe thead th {\n        text-align: right;\n    }\n</style>\n<table border=\"1\" class=\"dataframe\">\n  <thead>\n    <tr style=\"text-align: right;\">\n      <th></th>\n      <th>Name</th>\n      <th>Full Address</th>\n      <th>City</th>\n      <th>State</th>\n      <th>Year Opened</th>\n      <th>Year Closed</th>\n      <th>Start Date</th>\n      <th>Owner</th>\n      <th>Developer</th>\n      <th>Emission Reductions MMTCO2E/Year</th>\n      <th>...</th>\n      <th>Biogas End Use</th>\n      <th>Boiler Capacity (BTU an hour)</th>\n      <th>Baseline System</th>\n      <th>Codigestion</th>\n      <th>City/State</th>\n      <th>Location</th>\n      <th>Point</th>\n      <th>Latitude</th>\n      <th>Longitude</th>\n      <th>Altitude</th>\n    </tr>\n  </thead>\n  <tbody>\n    <tr>\n      <th>0</th>\n      <td>Cargill - Sandy River Farm</td>\n      <td>Morrilton, AR United States</td>\n      <td>Morrilton</td>\n      <td>AR</td>\n      <td>2008</td>\n      <td>NaN</td>\n      <td>NaN</td>\n      <td>NaN</td>\n      <td>NaN</td>\n      <td>2847.284662</td>\n      <td>...</td>\n      <td>Flared</td>\n      <td>NaN</td>\n      <td>Storage Lagoon</td>\n      <td>None</td>\n      <td>Morrilton AR</td>\n      <td>(Morrilton, Conway County, Arkansas, 72110, Un...</td>\n      <td>(35.1509173, -92.7440538, 0.0)</td>\n      <td>35.150917</td>\n      <td>-92.744054</td>\n      <td>0.0</td>\n    </tr>\n    <tr>\n      <th>1</th>\n      <td>Bob Giacomini Dairy</td>\n      <td>Point Reyes Station, CA United States</td>\n      <td>Point Reyes Station</td>\n      <td>CA</td>\n      <td>2009</td>\n      <td>NaN</td>\n      <td>NaN</td>\n      <td>NaN</td>\n      <td>Williams Engineering Associates</td>\n      <td>1592.636260</td>\n      <td>...</td>\n      <td>Cogeneration</td>\n      <td>NaN</td>\n      <td>Storage Lagoon</td>\n      <td>Wastewater</td>\n      <td>Point Reyes Station CA</td>\n      <td>(Point Reyes Station, Marin County, California...</td>\n      <td>(38.0690895, -122.8069356, 0.0)</td>\n      <td>38.069089</td>\n      <td>-122.806936</td>\n      <td>0.0</td>\n    </tr>\n    <tr>\n      <th>2</th>\n      <td>Bullfrog Dairy</td>\n      <td>Imperial, CA United States</td>\n      <td>Imperial</td>\n      <td>CA</td>\n      <td>2008</td>\n      <td>NaN</td>\n      <td>NaN</td>\n      <td>NaN</td>\n      <td>RCM International, LLC</td>\n      <td>17518.998860</td>\n      <td>...</td>\n      <td>Electricity</td>\n      <td>NaN</td>\n      <td>Storage Lagoon</td>\n      <td>None</td>\n      <td>Imperial CA</td>\n      <td>(Imperial, Saskatchewan, S0G 2J0, Canada, (51....</td>\n      <td>(51.346117, -105.4355653, 0.0)</td>\n      <td>51.346117</td>\n      <td>-105.435565</td>\n      <td>0.0</td>\n    </tr>\n    <tr>\n      <th>3</th>\n      <td>CAL-Denier Dairy</td>\n      <td>Galt, CA United States</td>\n      <td>Galt</td>\n      <td>CA</td>\n      <td>2008</td>\n      <td>NaN</td>\n      <td>NaN</td>\n      <td>NaN</td>\n      <td>RCM International, LLC</td>\n      <td>3983.482409</td>\n      <td>...</td>\n      <td>Electricity</td>\n      <td>NaN</td>\n      <td>Storage Lagoon</td>\n      <td>None</td>\n      <td>Galt CA</td>\n      <td>(Galt, City of Cambridge, Region of Waterloo, ...</td>\n      <td>(43.3589869, -80.3152471, 0.0)</td>\n      <td>43.358987</td>\n      <td>-80.315247</td>\n      <td>0.0</td>\n    </tr>\n    <tr>\n      <th>4</th>\n      <td>Castelanelli Bros. Dairy</td>\n      <td>Lodi, CA United States</td>\n      <td>Lodi</td>\n      <td>CA</td>\n      <td>2004</td>\n      <td>NaN</td>\n      <td>NaN</td>\n      <td>NaN</td>\n      <td>RCM International, LLC; Cover installed by Env...</td>\n      <td>12582.925030</td>\n      <td>...</td>\n      <td>Electricity</td>\n      <td>NaN</td>\n      <td>Storage Lagoon</td>\n      <td>None</td>\n      <td>Lodi CA</td>\n      <td>(Lodi, North Stormont, Stormont, Dundas and Gl...</td>\n      <td>(45.2232055, -75.0073385, 0.0)</td>\n      <td>45.223205</td>\n      <td>-75.007339</td>\n      <td>0.0</td>\n    </tr>\n  </tbody>\n</table>\n<p>5 rows × 25 columns</p>\n</div>"
     },
     "metadata": {},
     "execution_count": 23
    }
   ],
   "source": [
    "dfAgriculture.head()"
   ]
  },
  {
   "cell_type": "code",
   "execution_count": null,
   "metadata": {},
   "outputs": [],
   "source": []
  }
 ],
 "metadata": {
  "kernelspec": {
   "display_name": "Python 3",
   "language": "python",
   "name": "python3"
  },
  "language_info": {
   "codemirror_mode": {
    "name": "ipython",
    "version": 3
   },
   "file_extension": ".py",
   "mimetype": "text/x-python",
   "name": "python",
   "nbconvert_exporter": "python",
   "pygments_lexer": "ipython3",
   "version": "3.8.3-final"
  }
 },
 "nbformat": 4,
 "nbformat_minor": 4
}